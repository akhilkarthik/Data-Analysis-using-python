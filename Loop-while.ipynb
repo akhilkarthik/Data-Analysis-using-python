{
 "cells": [
  {
   "cell_type": "code",
   "execution_count": 9,
   "id": "195b521f",
   "metadata": {},
   "outputs": [],
   "source": [
    "def count(n):\n",
    "    while n<5:\n",
    "        print(n)\n",
    "        n+=1\n",
    "        "
   ]
  },
  {
   "cell_type": "code",
   "execution_count": 10,
   "id": "1154216d",
   "metadata": {},
   "outputs": [
    {
     "name": "stdout",
     "output_type": "stream",
     "text": [
      "1\n",
      "2\n",
      "3\n",
      "4\n"
     ]
    }
   ],
   "source": [
    "count(1)"
   ]
  },
  {
   "cell_type": "markdown",
   "id": "f55e26ba",
   "metadata": {},
   "source": [
    "## Breaking loop"
   ]
  },
  {
   "cell_type": "code",
   "execution_count": 6,
   "id": "b75ebefa",
   "metadata": {},
   "outputs": [],
   "source": [
    "def count(n):    # will print the values from n to 100\n",
    "     while True:\n",
    "             print(n)\n",
    "             n=n+1\n",
    "             if n>100:\n",
    "                     break"
   ]
  },
  {
   "cell_type": "code",
   "execution_count": 8,
   "id": "3dc6ee91",
   "metadata": {},
   "outputs": [
    {
     "name": "stdout",
     "output_type": "stream",
     "text": [
      "98\n",
      "99\n",
      "100\n"
     ]
    }
   ],
   "source": [
    "count(98)"
   ]
  }
 ],
 "metadata": {
  "kernelspec": {
   "display_name": "Python 3 (ipykernel)",
   "language": "python",
   "name": "python3"
  },
  "language_info": {
   "codemirror_mode": {
    "name": "ipython",
    "version": 3
   },
   "file_extension": ".py",
   "mimetype": "text/x-python",
   "name": "python",
   "nbconvert_exporter": "python",
   "pygments_lexer": "ipython3",
   "version": "3.11.4"
  }
 },
 "nbformat": 4,
 "nbformat_minor": 5
}
