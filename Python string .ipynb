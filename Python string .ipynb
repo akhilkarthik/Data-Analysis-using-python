{
 "cells": [
  {
   "cell_type": "markdown",
   "id": "81fbc7a5",
   "metadata": {},
   "source": [
    "# String\n"
   ]
  },
  {
   "cell_type": "code",
   "execution_count": 20,
   "id": "f9e6e407",
   "metadata": {},
   "outputs": [
    {
     "name": "stdout",
     "output_type": "stream",
     "text": [
      "6\n"
     ]
    }
   ],
   "source": [
    "a=\"bananawr\"\n",
    "c= a.find(\"w\")\n",
    "print(c)"
   ]
  },
  {
   "cell_type": "code",
   "execution_count": 17,
   "id": "b75b1eef",
   "metadata": {},
   "outputs": [
    {
     "name": "stdout",
     "output_type": "stream",
     "text": [
      "gmail.com\n"
     ]
    }
   ],
   "source": [
    "# we need to get gmail.com\n",
    "\n",
    "data=\"akhil karthik@gmail.com 94976433757 Alappuzha india\"\n",
    "\n",
    "a=data.find(\"@\")\n",
    "\n",
    "b=data.find(\" \",a)\n",
    "\n",
    "c=data[a+1:b]\n",
    "\n",
    "print(c)"
   ]
  },
  {
   "cell_type": "markdown",
   "id": "27683fc6",
   "metadata": {},
   "source": [
    "## Indexing"
   ]
  },
  {
   "cell_type": "code",
   "execution_count": 29,
   "id": "705eb4d3",
   "metadata": {},
   "outputs": [],
   "source": [
    "name=\"Akhil\""
   ]
  },
  {
   "cell_type": "code",
   "execution_count": 22,
   "id": "aabc8d50",
   "metadata": {},
   "outputs": [
    {
     "name": "stdout",
     "output_type": "stream",
     "text": [
      "A\n"
     ]
    }
   ],
   "source": [
    "print(name[0]) # 0 is the first index"
   ]
  },
  {
   "cell_type": "code",
   "execution_count": 58,
   "id": "362b3230",
   "metadata": {},
   "outputs": [
    {
     "name": "stdout",
     "output_type": "stream",
     "text": [
      "Akhil\n"
     ]
    }
   ],
   "source": [
    "print(name[0:5])"
   ]
  },
  {
   "cell_type": "code",
   "execution_count": 60,
   "id": "ba362e1d",
   "metadata": {},
   "outputs": [
    {
     "name": "stdout",
     "output_type": "stream",
     "text": [
      "l\n"
     ]
    }
   ],
   "source": [
    "print(name[4])"
   ]
  },
  {
   "cell_type": "code",
   "execution_count": 61,
   "id": "dcb6707f",
   "metadata": {},
   "outputs": [
    {
     "name": "stdout",
     "output_type": "stream",
     "text": [
      "khi\n"
     ]
    }
   ],
   "source": [
    "print(name[1:4])"
   ]
  },
  {
   "cell_type": "code",
   "execution_count": 21,
   "id": "c44dd1ca",
   "metadata": {},
   "outputs": [
    {
     "name": "stdout",
     "output_type": "stream",
     "text": [
      "Akhil\n"
     ]
    }
   ],
   "source": [
    "print(name[0:len(name)])"
   ]
  },
  {
   "cell_type": "code",
   "execution_count": 15,
   "id": "7b8b07f6",
   "metadata": {},
   "outputs": [
    {
     "name": "stdout",
     "output_type": "stream",
     "text": [
      "Akhil\n"
     ]
    }
   ],
   "source": [
    "print(name[:])"
   ]
  },
  {
   "cell_type": "code",
   "execution_count": 57,
   "id": "635c9456",
   "metadata": {},
   "outputs": [
    {
     "name": "stdout",
     "output_type": "stream",
     "text": [
      "5\n"
     ]
    }
   ],
   "source": [
    "print(len(name))"
   ]
  },
  {
   "cell_type": "code",
   "execution_count": 36,
   "id": "a45560ad",
   "metadata": {},
   "outputs": [
    {
     "name": "stdout",
     "output_type": "stream",
     "text": [
      "l\n"
     ]
    }
   ],
   "source": [
    "print(name[-1]) # negative indexing"
   ]
  },
  {
   "cell_type": "markdown",
   "id": "9b06543a",
   "metadata": {},
   "source": [
    "## String Methods"
   ]
  },
  {
   "cell_type": "code",
   "execution_count": 40,
   "id": "717da6b5",
   "metadata": {},
   "outputs": [],
   "source": [
    "message=\"A strong kong with silly typo wow &\""
   ]
  },
  {
   "cell_type": "code",
   "execution_count": 37,
   "id": "da331729",
   "metadata": {},
   "outputs": [
    {
     "name": "stdout",
     "output_type": "stream",
     "text": [
      "9\n"
     ]
    }
   ],
   "source": [
    "print(message.index('kong'))"
   ]
  },
  {
   "cell_type": "code",
   "execution_count": 42,
   "id": "322f3285",
   "metadata": {},
   "outputs": [
    {
     "name": "stdout",
     "output_type": "stream",
     "text": [
      "34\n"
     ]
    }
   ],
   "source": [
    "print(message.index(\"&\"))"
   ]
  },
  {
   "cell_type": "code",
   "execution_count": 43,
   "id": "ab955dbc",
   "metadata": {},
   "outputs": [
    {
     "name": "stdout",
     "output_type": "stream",
     "text": [
      "akhilkarthik0007@yahoomail.com\n"
     ]
    }
   ],
   "source": [
    "\n",
    "\n",
    "def replace_domain(email,old_domain,new_domain):\n",
    "\n",
    "    if \"@\"+old_domain in email:\n",
    "\n",
    "        a=email.index(\"@\"+old_domain)\n",
    "\n",
    "        new_email=email[:a]+\"@\"+new_domain\n",
    "\n",
    "        print(new_email)\n",
    "\n",
    "replace_domain('akhilkarthik0007@gmail.com','gmail.com','yahoomail.com')\n",
    "\n"
   ]
  },
  {
   "cell_type": "code",
   "execution_count": 46,
   "id": "d1cb295d",
   "metadata": {},
   "outputs": [],
   "source": [
    "b=\"akhilkarthik0007@gmail.com\""
   ]
  },
  {
   "cell_type": "code",
   "execution_count": 50,
   "id": "11399b1d",
   "metadata": {},
   "outputs": [
    {
     "name": "stdout",
     "output_type": "stream",
     "text": [
      "16\n"
     ]
    }
   ],
   "source": [
    "print(b.index(\"@\"))"
   ]
  },
  {
   "cell_type": "code",
   "execution_count": 55,
   "id": "0424809c",
   "metadata": {},
   "outputs": [
    {
     "name": "stdout",
     "output_type": "stream",
     "text": [
      "akhilkarthik0007\n"
     ]
    }
   ],
   "source": [
    "print(b[0:16])"
   ]
  },
  {
   "cell_type": "code",
   "execution_count": 62,
   "id": "dc56a466",
   "metadata": {},
   "outputs": [
    {
     "name": "stdout",
     "output_type": "stream",
     "text": [
      "gmail.com\n"
     ]
    }
   ],
   "source": [
    "print(b[17:])"
   ]
  },
  {
   "cell_type": "code",
   "execution_count": 64,
   "id": "baf162f9",
   "metadata": {},
   "outputs": [],
   "source": [
    "Name= \"Mongey\""
   ]
  },
  {
   "cell_type": "code",
   "execution_count": 68,
   "id": "6f065b8e",
   "metadata": {},
   "outputs": [],
   "source": [
    "New_name =Name[:3]+\"k\"+Name[4:]"
   ]
  },
  {
   "cell_type": "code",
   "execution_count": 70,
   "id": "17dc727f",
   "metadata": {},
   "outputs": [
    {
     "name": "stdout",
     "output_type": "stream",
     "text": [
      "Monkey\n"
     ]
    }
   ],
   "source": [
    "print(New_name)"
   ]
  },
  {
   "cell_type": "code",
   "execution_count": 88,
   "id": "de4e05f6",
   "metadata": {},
   "outputs": [],
   "source": [
    "Name=\" Hii there have a fantastic day \""
   ]
  },
  {
   "cell_type": "code",
   "execution_count": 73,
   "id": "c9a50f6b",
   "metadata": {},
   "outputs": [
    {
     "name": "stdout",
     "output_type": "stream",
     "text": [
      "5\n"
     ]
    }
   ],
   "source": [
    "print(Name.count(\"a\"))"
   ]
  },
  {
   "cell_type": "code",
   "execution_count": 85,
   "id": "8f3a66d9",
   "metadata": {},
   "outputs": [],
   "source": [
    "a=\",\".join(Name)"
   ]
  },
  {
   "cell_type": "code",
   "execution_count": 86,
   "id": "75c14fa0",
   "metadata": {},
   "outputs": [
    {
     "name": "stdout",
     "output_type": "stream",
     "text": [
      " ,H,i,i, ,t,h,e,r,e, ,h,a,v,e, ,a, ,f,a,n,t,a,s,t,i,c, ,d,a,y, \n"
     ]
    }
   ],
   "source": [
    "print(a)"
   ]
  },
  {
   "cell_type": "code",
   "execution_count": 92,
   "id": "ee236d04",
   "metadata": {},
   "outputs": [
    {
     "name": "stdout",
     "output_type": "stream",
     "text": [
      "['Hii', 'there', 'have', 'a', 'fantastic', 'day']\n"
     ]
    }
   ],
   "source": [
    "a=Name.split()\n",
    "print(a)"
   ]
  },
  {
   "cell_type": "markdown",
   "id": "79731935",
   "metadata": {},
   "source": [
    "### Format method"
   ]
  },
  {
   "cell_type": "code",
   "execution_count": 96,
   "id": "d98eeadc",
   "metadata": {},
   "outputs": [
    {
     "name": "stdout",
     "output_type": "stream",
     "text": [
      "hai there Manny, your Number is 15\n"
     ]
    }
   ],
   "source": [
    "name= \"Manny\"\n",
    "number=len(name)*3\n",
    "\n",
    "print(\"hai there {}, your Number is {}\".format(name,number))"
   ]
  },
  {
   "cell_type": "code",
   "execution_count": 97,
   "id": "39c4f3ab",
   "metadata": {},
   "outputs": [],
   "source": [
    "def form(name):\n",
    "    number=len(name)\n",
    "    print(\"hai there {}, your Number is {}\".format(name,number))"
   ]
  },
  {
   "cell_type": "code",
   "execution_count": 100,
   "id": "5cbf45cd",
   "metadata": {},
   "outputs": [
    {
     "name": "stdout",
     "output_type": "stream",
     "text": [
      "hai there Akhil, your Number is 5\n"
     ]
    }
   ],
   "source": [
    "form(\"Akhil\")"
   ]
  },
  {
   "cell_type": "code",
   "execution_count": null,
   "id": "e60387cf",
   "metadata": {},
   "outputs": [],
   "source": []
  }
 ],
 "metadata": {
  "kernelspec": {
   "display_name": "Python 3 (ipykernel)",
   "language": "python",
   "name": "python3"
  },
  "language_info": {
   "codemirror_mode": {
    "name": "ipython",
    "version": 3
   },
   "file_extension": ".py",
   "mimetype": "text/x-python",
   "name": "python",
   "nbconvert_exporter": "python",
   "pygments_lexer": "ipython3",
   "version": "3.11.4"
  }
 },
 "nbformat": 4,
 "nbformat_minor": 5
}
