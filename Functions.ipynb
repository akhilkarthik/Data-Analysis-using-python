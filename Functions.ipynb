{
 "cells": [
  {
   "cell_type": "markdown",
   "id": "9ac1892a",
   "metadata": {},
   "source": [
    "## functions"
   ]
  },
  {
   "cell_type": "code",
   "execution_count": 1,
   "id": "f87a7bad",
   "metadata": {},
   "outputs": [
    {
     "name": "stdout",
     "output_type": "stream",
     "text": [
      "Hello there, Ms Asok\n",
      "Welcome to the newly formed team of XYZ company\n",
      "You are from the department of  Strategy\n",
      "Your mail id will be  athira.asok@xyz.com\n"
     ]
    }
   ],
   "source": [
    "\n",
    "\n",
    "def greetings (firstname,lastname,department,company,sex):\n",
    "    firstname=firstname.lower()\n",
    "    lastname1=lastname.lower()\n",
    "    company2=company.lower()\n",
    "    if sex==\"Male\":\n",
    "        print(\"Hello there, Mr\",lastname+\"\\n\"+\"Welcome to the newly formed team of\",company, \"company\")\n",
    "    else :\n",
    "        print(\"Hello there, Ms\",lastname+\"\\n\"+\"Welcome to the newly formed team of\",company, \"company\")\n",
    "\n",
    "    \n",
    "    print(\"You are from the department of \",department)\n",
    "    print(\"Your mail id will be \" ,firstname+\".\"+lastname1+\"@\"+company2+\".com\")\n",
    "\n",
    "\n",
    "\n"
   ]
  },
  {
   "cell_type": "code",
   "execution_count": 2,
   "id": "7f99d108",
   "metadata": {},
   "outputs": [
    {
     "name": "stdout",
     "output_type": "stream",
     "text": [
      "Hello there, Ms Asok\n",
      "Welcome to the newly formed team of XYZ company\n",
      "You are from the department of  Strategy\n",
      "Your mail id will be  athira.asok@xyz.com\n"
     ]
    }
   ],
   "source": [
    "greetings(\"Athira\",\"Asok\",\"Strategy\",\"XYZ\",\"female\")"
   ]
  },
  {
   "cell_type": "markdown",
   "id": "ffed7e6a",
   "metadata": {},
   "source": [
    "## Return with functions\n"
   ]
  },
  {
   "cell_type": "code",
   "execution_count": 3,
   "id": "b468784e",
   "metadata": {},
   "outputs": [
    {
     "name": "stdout",
     "output_type": "stream",
     "text": [
      "The sum of two areas of the triangle are 12.0\n"
     ]
    }
   ],
   "source": [
    "# Area of a triangle\n",
    "\n",
    "def area_t(length,height):\n",
    "    return (length*height)/2\n",
    "\n",
    "\n",
    "\n",
    "A1=area_t(1,4)\n",
    "A2=area_t(10,2)\n",
    "sum=A1+A2\n",
    "\n",
    "print (\"The sum of two areas of the triangle are\",sum)\n"
   ]
  },
  {
   "cell_type": "code",
   "execution_count": 4,
   "id": "0545b42a",
   "metadata": {},
   "outputs": [
    {
     "name": "stdout",
     "output_type": "stream",
     "text": [
      "1 hr 0 mm 0 ss\n"
     ]
    }
   ],
   "source": [
    "\n",
    "def convertHour (seconds):\n",
    "    hour=seconds//(60*60)\n",
    "    minutes=(seconds-hour*3600)//60\n",
    "    Seconds=seconds-hour*3600-minutes*60\n",
    "    return hour,minutes,Seconds\n",
    "\n",
    "\n",
    "\n",
    "a,b,c=convertHour(3600)\n",
    "print(a,\"hr\",b,\"mm\",c,\"ss\")"
   ]
  }
 ],
 "metadata": {
  "kernelspec": {
   "display_name": "Python 3 (ipykernel)",
   "language": "python",
   "name": "python3"
  },
  "language_info": {
   "codemirror_mode": {
    "name": "ipython",
    "version": 3
   },
   "file_extension": ".py",
   "mimetype": "text/x-python",
   "name": "python",
   "nbconvert_exporter": "python",
   "pygments_lexer": "ipython3",
   "version": "3.11.4"
  }
 },
 "nbformat": 4,
 "nbformat_minor": 5
}
