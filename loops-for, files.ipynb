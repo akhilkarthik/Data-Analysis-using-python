{
 "cells": [
  {
   "cell_type": "markdown",
   "id": "2390e45a",
   "metadata": {},
   "source": [
    "## For loops"
   ]
  },
  {
   "cell_type": "code",
   "execution_count": 11,
   "id": "dd8d4c92",
   "metadata": {},
   "outputs": [],
   "source": [
    "vegtables=[\"carrot\",\"potato\",\"papaya\",\"beans\",\"papaya\",\"papaya\"]"
   ]
  },
  {
   "cell_type": "code",
   "execution_count": 8,
   "id": "cce20c9d",
   "metadata": {},
   "outputs": [
    {
     "name": "stdout",
     "output_type": "stream",
     "text": [
      "the count is 3\n"
     ]
    }
   ],
   "source": [
    "count=0\n",
    "for i in vegtables:\n",
    "    \n",
    "    if i==\"papaya\":\n",
    "        count=count+1\n",
    "        \n",
    "        \n",
    "print(\"the count is\",count)\n",
    "  \n",
    "    \n",
    "    "
   ]
  },
  {
   "cell_type": "code",
   "execution_count": 16,
   "id": "501d60c5",
   "metadata": {},
   "outputs": [
    {
     "name": "stdout",
     "output_type": "stream",
     "text": [
      "carrot\n",
      "potato\n",
      "papaya\n",
      "beans\n",
      "papaya\n",
      "papaya\n"
     ]
    }
   ],
   "source": [
    "count=0\n",
    "for i in vegtables:\n",
    "    print(i)\n",
    "    if i==\"papaya\":\n",
    "        count=count+1\n",
    "        if count >2:\n",
    "            continue"
   ]
  },
  {
   "cell_type": "code",
   "execution_count": 1,
   "id": "6bfe6e92",
   "metadata": {},
   "outputs": [],
   "source": [
    "friends=[\"Athira\",\"Deepak\",\"Anjali\"]"
   ]
  },
  {
   "cell_type": "code",
   "execution_count": 2,
   "id": "2e360070",
   "metadata": {},
   "outputs": [
    {
     "name": "stdout",
     "output_type": "stream",
     "text": [
      "Hi there Athira\n",
      "Hi there Deepak\n",
      "Hi there Anjali\n"
     ]
    }
   ],
   "source": [
    "for friend in friends:\n",
    "    print(\"Hi there\",friend)"
   ]
  },
  {
   "cell_type": "code",
   "execution_count": 3,
   "id": "75fc4ef2",
   "metadata": {},
   "outputs": [],
   "source": [
    "def friends_name(friends):\n",
    "    for friend in friends:\n",
    "        print(\"Hi there\",friend)"
   ]
  },
  {
   "cell_type": "code",
   "execution_count": 8,
   "id": "0dd78cf4",
   "metadata": {},
   "outputs": [
    {
     "name": "stdout",
     "output_type": "stream",
     "text": [
      "Hi there Akhil\n",
      "Hi there Ammu\n"
     ]
    }
   ],
   "source": [
    "friends=[\"Akhil\",\"Ammu\"]\n",
    "friends_name(friends)\n",
    "\n"
   ]
  },
  {
   "cell_type": "markdown",
   "id": "2768203d",
   "metadata": {},
   "source": [
    "## Nested loops"
   ]
  },
  {
   "cell_type": "code",
   "execution_count": 1,
   "id": "c8c9fb62",
   "metadata": {},
   "outputs": [],
   "source": [
    "fruits=[\"Apple\",\"Orange\",\"Watermelon\",\"Grapes\",\"Banana\"]"
   ]
  },
  {
   "cell_type": "code",
   "execution_count": 3,
   "id": "80514ece",
   "metadata": {},
   "outputs": [
    {
     "name": "stdout",
     "output_type": "stream",
     "text": [
      "Apple  and  Orange\n",
      "Apple  and  Watermelon\n",
      "Apple  and  Grapes\n",
      "Apple  and  Banana\n",
      "Orange  and  Apple\n",
      "Orange  and  Watermelon\n",
      "Orange  and  Grapes\n",
      "Orange  and  Banana\n",
      "Watermelon  and  Apple\n",
      "Watermelon  and  Orange\n",
      "Watermelon  and  Grapes\n",
      "Watermelon  and  Banana\n",
      "Grapes  and  Apple\n",
      "Grapes  and  Orange\n",
      "Grapes  and  Watermelon\n",
      "Grapes  and  Banana\n",
      "Banana  and  Apple\n",
      "Banana  and  Orange\n",
      "Banana  and  Watermelon\n",
      "Banana  and  Grapes\n"
     ]
    }
   ],
   "source": [
    "for fruit1 in fruits:\n",
    "    for fruit2 in fruits:\n",
    "        if fruit1!=fruit2:\n",
    "            print(fruit1,\" and \",fruit2)"
   ]
  },
  {
   "cell_type": "code",
   "execution_count": null,
   "id": "685bd15f",
   "metadata": {},
   "outputs": [],
   "source": []
  }
 ],
 "metadata": {
  "kernelspec": {
   "display_name": "Python 3 (ipykernel)",
   "language": "python",
   "name": "python3"
  },
  "language_info": {
   "codemirror_mode": {
    "name": "ipython",
    "version": 3
   },
   "file_extension": ".py",
   "mimetype": "text/x-python",
   "name": "python",
   "nbconvert_exporter": "python",
   "pygments_lexer": "ipython3",
   "version": "3.11.4"
  }
 },
 "nbformat": 4,
 "nbformat_minor": 5
}
