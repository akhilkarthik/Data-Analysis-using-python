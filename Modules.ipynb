{
 "cells": [
  {
   "cell_type": "markdown",
   "id": "11649d0c",
   "metadata": {},
   "source": [
    "## Python with Modules"
   ]
  },
  {
   "cell_type": "markdown",
   "id": "197110ca",
   "metadata": {},
   "source": [
    "Python modules are separate files that contain classes, functions, and other data that allow us to import and make use of these methods and classes in our own code. Python comes with a lot of modules out of the box. These modules are referred to as the Python Standard Library."
   ]
  },
  {
   "cell_type": "code",
   "execution_count": 63,
   "id": "16e1ee4c",
   "metadata": {},
   "outputs": [],
   "source": [
    "import random  # calling random module using import keyword"
   ]
  },
  {
   "cell_type": "code",
   "execution_count": 20,
   "id": "495933cb",
   "metadata": {},
   "outputs": [
    {
     "name": "stdout",
     "output_type": "stream",
     "text": [
      "4\n",
      "5\n",
      "2\n"
     ]
    }
   ],
   "source": [
    "print(random.randint(1,10)) \n",
    "print(random.randint(1,10))\n",
    "print(random.randint(1,10))"
   ]
  },
  {
   "cell_type": "code",
   "execution_count": 79,
   "id": "d96630bc",
   "metadata": {},
   "outputs": [
    {
     "name": "stdout",
     "output_type": "stream",
     "text": [
      "<class 'datetime.datetime'>\n"
     ]
    }
   ],
   "source": [
    "import datetime #We import the module\n",
    "\n",
    "time=datetime.datetime.now() # we call the now() method which belongs to the datetime class contained within the datetime module\n",
    "\n",
    "print(type(time))"
   ]
  },
  {
   "cell_type": "markdown",
   "id": "87f680da",
   "metadata": {},
   "source": [
    "This method generates an instance of the datetime class for the current date and time."
   ]
  },
  {
   "cell_type": "code",
   "execution_count": 81,
   "id": "f55386fa",
   "metadata": {},
   "outputs": [
    {
     "name": "stdout",
     "output_type": "stream",
     "text": [
      "2023-09-08 16:28:04.637997\n"
     ]
    }
   ],
   "source": [
    "print(time) "
   ]
  },
  {
   "cell_type": "markdown",
   "id": "8b809dc3",
   "metadata": {},
   "source": [
    "When we call the print function with an instance of the datetime class, we get the date and time printed in a specific format. This is because the datetime class has a __str__ method defined which generates the formatted string we see here"
   ]
  },
  {
   "cell_type": "markdown",
   "id": "1e7b3dfd",
   "metadata": {},
   "source": [
    "We can also directly call attributes and methods of the class, as with time.year which returns the year attribute of the instance."
   ]
  },
  {
   "cell_type": "code",
   "execution_count": 83,
   "id": "d10ffa62",
   "metadata": {},
   "outputs": [
    {
     "name": "stdout",
     "output_type": "stream",
     "text": [
      "2023\n",
      "9\n"
     ]
    }
   ],
   "source": [
    "print(time.year)\n",
    "print(time.month)"
   ]
  },
  {
   "cell_type": "code",
   "execution_count": 91,
   "id": "f953bdcc",
   "metadata": {},
   "outputs": [
    {
     "name": "stdout",
     "output_type": "stream",
     "text": [
      "2023-10-06 16:28:04.637997\n"
     ]
    }
   ],
   "source": [
    "print(time+datetime.timedelta(days=28))"
   ]
  }
 ],
 "metadata": {
  "kernelspec": {
   "display_name": "Python 3 (ipykernel)",
   "language": "python",
   "name": "python3"
  },
  "language_info": {
   "codemirror_mode": {
    "name": "ipython",
    "version": 3
   },
   "file_extension": ".py",
   "mimetype": "text/x-python",
   "name": "python",
   "nbconvert_exporter": "python",
   "pygments_lexer": "ipython3",
   "version": "3.11.4"
  }
 },
 "nbformat": 4,
 "nbformat_minor": 5
}
