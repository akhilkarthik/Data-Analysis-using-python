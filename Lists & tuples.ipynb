{
 "cells": [
  {
   "cell_type": "markdown",
   "id": "f84cc875",
   "metadata": {},
   "source": [
    "Lists in Python are defined using square brackets, with the elements stored in the list separated by commas: list = [\"This\", \"is\", \"a\", \"list\"]"
   ]
  },
  {
   "cell_type": "code",
   "execution_count": 4,
   "id": "3edabc00",
   "metadata": {},
   "outputs": [],
   "source": [
    "numbers=[1,2,3]\n",
    "\n",
    "names=[\"Akhil\",\"Athira\",\"Linta\",\"Ammu\"]"
   ]
  },
  {
   "cell_type": "code",
   "execution_count": 7,
   "id": "63e74e53",
   "metadata": {},
   "outputs": [
    {
     "name": "stdout",
     "output_type": "stream",
     "text": [
      "4 , 3\n"
     ]
    }
   ],
   "source": [
    "print(len(names),\",\",len(numbers))"
   ]
  },
  {
   "cell_type": "markdown",
   "id": "2045e9de",
   "metadata": {},
   "source": [
    "### Modifying the Contents of a List"
   ]
  },
  {
   "cell_type": "code",
   "execution_count": 37,
   "id": "a42573bc",
   "metadata": {},
   "outputs": [],
   "source": [
    "fruits=[\"Apple\",\"Orange\",\"pineapple\"]"
   ]
  },
  {
   "cell_type": "code",
   "execution_count": 38,
   "id": "ed5ea8c2",
   "metadata": {},
   "outputs": [
    {
     "name": "stdout",
     "output_type": "stream",
     "text": [
      "['Apple', 'Orange', 'pineapple', 'Kiwi']\n"
     ]
    }
   ],
   "source": [
    "fruits.append(\"Kiwi\")   # append() method used to add something to the list at the end\n",
    "print(fruits)"
   ]
  },
  {
   "cell_type": "code",
   "execution_count": 48,
   "id": "d9bbc977",
   "metadata": {},
   "outputs": [
    {
     "name": "stdout",
     "output_type": "stream",
     "text": [
      "['Apple', 'papaya', 'papaya', 'papaya', 'papaya', 'papaya', 'papaya', 'Orange', 'pineapple', 'Kiwi']\n"
     ]
    }
   ],
   "source": [
    "fruits.insert(1,\"papaya\")  # insert() method used to insert something on the desired position here \"fruits[1]\"\n",
    "print(fruits)"
   ]
  },
  {
   "cell_type": "code",
   "execution_count": 49,
   "id": "7891dac0",
   "metadata": {},
   "outputs": [
    {
     "name": "stdout",
     "output_type": "stream",
     "text": [
      "['Apple', 'papaya', 'papaya', 'papaya', 'papaya', 'papaya', 'Orange', 'pineapple', 'Kiwi']\n"
     ]
    }
   ],
   "source": [
    "fruits.remove(\"papaya\")   # remove() Methods removes the contents by giving their name\n",
    "print(fruits)"
   ]
  },
  {
   "cell_type": "code",
   "execution_count": 54,
   "id": "fc1b0c7b",
   "metadata": {},
   "outputs": [
    {
     "name": "stdout",
     "output_type": "stream",
     "text": [
      "['Apple', 'Orange', 'pineapple', 'Kiwi']\n"
     ]
    }
   ],
   "source": [
    "fruits.pop(1) ##.pop() method removes the content by position or index\n",
    "\n",
    "\n",
    "print(fruits)"
   ]
  },
  {
   "cell_type": "code",
   "execution_count": 56,
   "id": "c4bbc434",
   "metadata": {},
   "outputs": [],
   "source": [
    "fruits[0]=\"Mango\""
   ]
  },
  {
   "cell_type": "code",
   "execution_count": 58,
   "id": "c3adfc53",
   "metadata": {},
   "outputs": [
    {
     "name": "stdout",
     "output_type": "stream",
     "text": [
      "['Mango', 'Orange', 'pineapple', 'Kiwi']\n"
     ]
    }
   ],
   "source": [
    "print(fruits)"
   ]
  },
  {
   "cell_type": "markdown",
   "id": "a824091c",
   "metadata": {},
   "source": [
    "# Tuples"
   ]
  },
  {
   "cell_type": "markdown",
   "id": "459b2f16",
   "metadata": {},
   "source": [
    "Let's use tuples to store information about a file: its name, its type and its size in bytes. Fill in the gaps in this code to return the size in kilobytes (a kilobyte is 1024 bytes) up to 2 decimal places. "
   ]
  },
  {
   "cell_type": "code",
   "execution_count": 62,
   "id": "d878543e",
   "metadata": {},
   "outputs": [
    {
     "name": "stdout",
     "output_type": "stream",
     "text": [
      "17.46\n",
      "0.48\n",
      "1.21\n"
     ]
    }
   ],
   "source": [
    "def file_size(file_info):\n",
    "    \n",
    "    name,type,size= file_info\n",
    "    return(\"{:.2f}\".format(size/ 1024))\n",
    "\n",
    "print(file_size(('Class Assignment', 'docx', 17875))) # Should print 17.46\n",
    "print(file_size(('Notes', 'txt', 496))) # Should print 0.48\n",
    "print(file_size(('Program', 'py', 1239))) # Should print 1.21\n"
   ]
  },
  {
   "cell_type": "markdown",
   "id": "fc9f35fd",
   "metadata": {},
   "source": [
    "A list of tuples containing two strings each. The first string is an email address and the second is the full name of the person with that email address. You want to write a function that creates a new list containing one string per person including their name and the email address between angled brackets. the format usually used in emails like this. So what do we need to do?"
   ]
  },
  {
   "cell_type": "code",
   "execution_count": 72,
   "id": "71b48249",
   "metadata": {},
   "outputs": [
    {
     "name": "stdout",
     "output_type": "stream",
     "text": [
      "['Akhil karthik <akhilkarthik@gmail.com>', 'Athira asok <athirasok@gmail.com>']\n"
     ]
    }
   ],
   "source": [
    "def datset(data1):\n",
    "    a=[]\n",
    "    for name,email in data1:\n",
    "        a.append(\"{} <{}>\".format(email,name))\n",
    "    print(a)\n",
    "\n",
    "datset([(\"akhilkarthik@gmail.com\",\"Akhil karthik\"),(\"athirasok@gmail.com\",\"Athira asok\")])\n",
    "\n"
   ]
  },
  {
   "cell_type": "markdown",
   "id": "3b131a4f",
   "metadata": {},
   "source": [
    "#### Enumerate function"
   ]
  },
  {
   "cell_type": "markdown",
   "id": "d54d016e",
   "metadata": {},
   "source": [
    "If you want to access the elements in a list, along with the index of the element in question? You can do this using the enumerate() function. \n",
    "\n",
    "The enumerate() function takes a list as a parameter and returns a tuple for each element in the list. The first value of the tuple is the index and the second value is the element itself."
   ]
  },
  {
   "cell_type": "code",
   "execution_count": 78,
   "id": "5606a025",
   "metadata": {},
   "outputs": [
    {
     "name": "stdout",
     "output_type": "stream",
     "text": [
      "1  -  Akhil\n",
      "2  -  Linta\n",
      "3  -  Ammu\n"
     ]
    }
   ],
   "source": [
    "winners =[\"Akhil\",\"Linta\",\"Ammu\"]\n",
    "\n",
    "for index,person in enumerate(winners):\n",
    "    a=\"{}  -  {}\".format(index+1,person)\n",
    "    print(a)\n"
   ]
  },
  {
   "cell_type": "markdown",
   "id": "c5c51035",
   "metadata": {},
   "source": [
    "### List Comprehensions\n",
    "\n",
    "\n",
    "List comprehensions allow you to create a new list from a sequence or a range in a single line."
   ]
  },
  {
   "cell_type": "code",
   "execution_count": 92,
   "id": "cdb9a3b1",
   "metadata": {},
   "outputs": [],
   "source": [
    "x=[i for i in range(0,10)]"
   ]
  },
  {
   "cell_type": "code",
   "execution_count": 93,
   "id": "b7412d43",
   "metadata": {},
   "outputs": [
    {
     "name": "stdout",
     "output_type": "stream",
     "text": [
      "[0, 1, 2, 3, 4, 5, 6, 7, 8, 9]\n"
     ]
    }
   ],
   "source": [
    "print(x)"
   ]
  },
  {
   "cell_type": "code",
   "execution_count": 95,
   "id": "3fb9bc7a",
   "metadata": {},
   "outputs": [],
   "source": [
    "for i in range(1,100):\n",
    "     x.append(i)"
   ]
  },
  {
   "cell_type": "code",
   "execution_count": 96,
   "id": "09b0cb20",
   "metadata": {},
   "outputs": [
    {
     "name": "stdout",
     "output_type": "stream",
     "text": [
      "[0, 1, 2, 3, 4, 5, 6, 7, 8, 9, 1, 2, 3, 4, 5, 6, 7, 8, 9, 10, 11, 12, 13, 14, 15, 16, 17, 18, 19, 20, 21, 22, 23, 24, 25, 26, 27, 28, 29, 30, 31, 32, 33, 34, 35, 36, 37, 38, 39, 40, 41, 42, 43, 44, 45, 46, 47, 48, 49, 50, 51, 52, 53, 54, 55, 56, 57, 58, 59, 60, 61, 62, 63, 64, 65, 66, 67, 68, 69, 70, 71, 72, 73, 74, 75, 76, 77, 78, 79, 80, 81, 82, 83, 84, 85, 86, 87, 88, 89, 90, 91, 92, 93, 94, 95, 96, 97, 98, 99]\n"
     ]
    }
   ],
   "source": [
    "print(x)"
   ]
  },
  {
   "cell_type": "code",
   "execution_count": 98,
   "id": "8cfd6315",
   "metadata": {},
   "outputs": [],
   "source": [
    "languages=[\"Python\",\"C++\",\"R\",\"Java\"]"
   ]
  },
  {
   "cell_type": "code",
   "execution_count": 101,
   "id": "2127d474",
   "metadata": {},
   "outputs": [],
   "source": [
    "a=[]\n",
    "for language in languages:\n",
    "    a.append(len(language))"
   ]
  },
  {
   "cell_type": "code",
   "execution_count": 103,
   "id": "da640d73",
   "metadata": {},
   "outputs": [
    {
     "name": "stdout",
     "output_type": "stream",
     "text": [
      "[6, 3, 1, 4]\n"
     ]
    }
   ],
   "source": [
    "print(a)"
   ]
  },
  {
   "cell_type": "markdown",
   "id": "74efd288",
   "metadata": {},
   "source": [
    "\n",
    "list and range counters start at 0 and end at the limit minus 1."
   ]
  },
  {
   "cell_type": "code",
   "execution_count": 106,
   "id": "e75c6a99",
   "metadata": {},
   "outputs": [
    {
     "name": "stdout",
     "output_type": "stream",
     "text": [
      "[1, 3, 5]\n"
     ]
    }
   ],
   "source": [
    "def odd_numbers(n):          ##The odd_numbers function returns a list of odd numbers between 1 and n, inclusively.\n",
    "    \n",
    "    return [x for x in range(0,n+1) if x%2!=0]\n",
    "\n",
    "print(odd_numbers(5))                            \n"
   ]
  }
 ],
 "metadata": {
  "kernelspec": {
   "display_name": "Python 3 (ipykernel)",
   "language": "python",
   "name": "python3"
  },
  "language_info": {
   "codemirror_mode": {
    "name": "ipython",
    "version": 3
   },
   "file_extension": ".py",
   "mimetype": "text/x-python",
   "name": "python",
   "nbconvert_exporter": "python",
   "pygments_lexer": "ipython3",
   "version": "3.11.4"
  }
 },
 "nbformat": 4,
 "nbformat_minor": 5
}
