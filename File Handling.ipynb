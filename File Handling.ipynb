{
 "cells": [
  {
   "cell_type": "markdown",
   "id": "c7ef23df",
   "metadata": {},
   "source": [
    "File handling is an important part of any web application.\n",
    "\n",
    "Python has several functions for creating, reading, updating, and deleting files."
   ]
  },
  {
   "cell_type": "markdown",
   "id": "f6f8506f",
   "metadata": {},
   "source": [
    "The key function for working with files in Python is the open() function.\n",
    "\n",
    "The open() function takes two parameters; filename, and mode.\n",
    "\n",
    "There are four different methods (modes) for opening a file:"
   ]
  },
  {
   "cell_type": "markdown",
   "id": "a78203fe",
   "metadata": {},
   "source": [
    "\"r\" - Read - Default value. Opens a file for reading, error if the file does not exist\n",
    "\n",
    "\"a\" - Append - Opens a file for appending, creates the file if it does not exist\n",
    "\n",
    "\"w\" - Write - Opens a file for writing, creates the file if it does not exist\n",
    "\n",
    "\"x\" - Create - Creates the specified file, returns an error if the file exists"
   ]
  },
  {
   "cell_type": "markdown",
   "id": "737fe50c",
   "metadata": {},
   "source": [
    "In addition you can specify if the file should be handled as binary or text mode\n",
    "\n",
    "\"t\" - Text - Default value. Text mode\n",
    "\n",
    "\"b\" - Binary - Binary mode (e.g. images)"
   ]
  },
  {
   "cell_type": "code",
   "execution_count": 41,
   "id": "5a1db0d7",
   "metadata": {},
   "outputs": [],
   "source": [
    "path=\"C:\\\\Users\\\\akhil\\OneDrive\\Desktop\\python\\py1.txt\"\n",
    "\n",
    "file = open(path,\"rt\")\n",
    "\n",
    "# Because \"r\" for read, and \"t\" for text are the default values, you do not need to specify them."
   ]
  },
  {
   "cell_type": "markdown",
   "id": "8b83c17c",
   "metadata": {},
   "source": [
    "### Open a File on the Server"
   ]
  },
  {
   "cell_type": "code",
   "execution_count": 94,
   "id": "c2a4800e",
   "metadata": {},
   "outputs": [],
   "source": [
    "f=open(path,\"a\") # opened the file using \"a\" so that we can writ/append things on it"
   ]
  },
  {
   "cell_type": "code",
   "execution_count": 95,
   "id": "44113c54",
   "metadata": {},
   "outputs": [
    {
     "data": {
      "text/plain": [
       "92"
      ]
     },
     "execution_count": 95,
     "metadata": {},
     "output_type": "execute_result"
    }
   ],
   "source": [
    "f.write(\" \\n Yes You are  not that happy right now, but it will change for sure all the very best dear\")"
   ]
  },
  {
   "cell_type": "code",
   "execution_count": 97,
   "id": "482df9c5",
   "metadata": {},
   "outputs": [
    {
     "name": "stdout",
     "output_type": "stream",
     "text": [
      "Hi there I am The king of jungle \n",
      " Yes You are  not that happy right now, but it will change for sure all the very best dear\n"
     ]
    }
   ],
   "source": [
    "f=open(path,\"r\") # opening the file using \"r\" for reading purpose\n",
    "print(f.read())"
   ]
  },
  {
   "cell_type": "code",
   "execution_count": null,
   "id": "bfdcaa8b",
   "metadata": {},
   "outputs": [],
   "source": [
    "location=\"C:\\\\Users\\\\akhil\\OneDrive\\Desktop\\python\\\\\"\n",
    "\n",
    "inp=input(\"enter the file name \\n\")\n",
    "\n",
    "path=location+inp+\".txt\"\n",
    "\n",
    "myfile = open(path,\"x\")  # creating file\n",
    "myfile.close()\n",
    "\n",
    "myfile=open(path,\"a\")   # writing into file\n",
    "\n",
    "inp2=input(\"enter the details you want to Write/n\")\n",
    "\n",
    "myfile.write(inp2)\n",
    "\n",
    "myfile.close()\n",
    "\n",
    "myfile=open(path,\"r\")   # reading file\n",
    "myfile.read()\n",
    "myfile.close()"
   ]
  },
  {
   "cell_type": "markdown",
   "id": "5b46485e",
   "metadata": {},
   "source": [
    "### Python Delete File"
   ]
  },
  {
   "cell_type": "markdown",
   "id": "f6e66455",
   "metadata": {},
   "source": [
    "To delete a file, you must import the OS module, and run its os.remove() function:"
   ]
  },
  {
   "cell_type": "code",
   "execution_count": null,
   "id": "6503683f",
   "metadata": {},
   "outputs": [],
   "source": [
    "import os\n",
    "os.remove(\"demofile.txt\")"
   ]
  },
  {
   "cell_type": "markdown",
   "id": "01aca1c8",
   "metadata": {},
   "source": [
    "### Check if File exist:"
   ]
  },
  {
   "cell_type": "code",
   "execution_count": null,
   "id": "ad0186fb",
   "metadata": {},
   "outputs": [],
   "source": [
    "import os\n",
    "if os.path.exists(\"demofile.txt\"):\n",
    "    os.remove(\"demofile.txt\")\n",
    "else:\n",
    "    print(\"The file does not exist\")"
   ]
  },
  {
   "cell_type": "markdown",
   "id": "b9a64f8d",
   "metadata": {},
   "source": [
    "Delete Folder"
   ]
  },
  {
   "cell_type": "code",
   "execution_count": null,
   "id": "346d83d7",
   "metadata": {},
   "outputs": [],
   "source": [
    "import os\n",
    "os.rmdir(\"C:\\\\Users\\\\akhil\\OneDrive\\Desktop\\python\\py\")"
   ]
  },
  {
   "cell_type": "code",
   "execution_count": null,
   "id": "5ee14af3",
   "metadata": {},
   "outputs": [],
   "source": []
  }
 ],
 "metadata": {
  "kernelspec": {
   "display_name": "Python 3 (ipykernel)",
   "language": "python",
   "name": "python3"
  },
  "language_info": {
   "codemirror_mode": {
    "name": "ipython",
    "version": 3
   },
   "file_extension": ".py",
   "mimetype": "text/x-python",
   "name": "python",
   "nbconvert_exporter": "python",
   "pygments_lexer": "ipython3",
   "version": "3.11.4"
  }
 },
 "nbformat": 4,
 "nbformat_minor": 5
}
