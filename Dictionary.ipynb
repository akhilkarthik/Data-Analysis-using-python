{
 "cells": [
  {
   "cell_type": "markdown",
   "id": "474ec784",
   "metadata": {},
   "source": [
    "Data in a dictionary is organized into pairs of keys and values. You use the key to access the corresponding value. Where a list index is always a number, a dictionary key can be a different data type, like a string, integer, float, or even tuples."
   ]
  },
  {
   "cell_type": "code",
   "execution_count": null,
   "id": "17fa9042",
   "metadata": {},
   "outputs": [],
   "source": [
    "file = {\"jpg\":10,\"txt\":15,\"csv\":25}"
   ]
  },
  {
   "cell_type": "code",
   "execution_count": 3,
   "id": "9910d71b",
   "metadata": {
    "scrolled": false
   },
   "outputs": [
    {
     "name": "stdout",
     "output_type": "stream",
     "text": [
      "{'jpg': 10, 'txt': 15, 'csv': 25}\n"
     ]
    }
   ],
   "source": [
    "print(file)"
   ]
  },
  {
   "cell_type": "code",
   "execution_count": 8,
   "id": "b3425ae1",
   "metadata": {},
   "outputs": [
    {
     "data": {
      "text/plain": [
       "15"
      ]
     },
     "execution_count": 8,
     "metadata": {},
     "output_type": "execute_result"
    }
   ],
   "source": [
    "file[\"txt\"]"
   ]
  },
  {
   "cell_type": "code",
   "execution_count": 10,
   "id": "a526c411",
   "metadata": {},
   "outputs": [
    {
     "data": {
      "text/plain": [
       "10"
      ]
     },
     "execution_count": 10,
     "metadata": {},
     "output_type": "execute_result"
    }
   ],
   "source": [
    "file[\"jpg\"]"
   ]
  },
  {
   "cell_type": "code",
   "execution_count": 20,
   "id": "51755565",
   "metadata": {},
   "outputs": [],
   "source": [
    "file[\"cfg\"]=100"
   ]
  },
  {
   "cell_type": "code",
   "execution_count": 21,
   "id": "5486e5d5",
   "metadata": {},
   "outputs": [
    {
     "name": "stdout",
     "output_type": "stream",
     "text": [
      "{'jpg': 10, 'txt': 15, 'csv': 25, 'cfg': 100}\n"
     ]
    }
   ],
   "source": [
    "print(file)"
   ]
  },
  {
   "cell_type": "code",
   "execution_count": 22,
   "id": "ff0b77c9",
   "metadata": {},
   "outputs": [],
   "source": [
    "del file[\"cfg\"]                               #del used to delete contents from the dictionary"
   ]
  },
  {
   "cell_type": "code",
   "execution_count": 29,
   "id": "6b253979",
   "metadata": {},
   "outputs": [
    {
     "name": "stdout",
     "output_type": "stream",
     "text": [
      "{'jpg': 10, 'txt': 15, 'csv': 25}\n"
     ]
    }
   ],
   "source": [
    "print(file)"
   ]
  },
  {
   "cell_type": "markdown",
   "id": "64772376",
   "metadata": {},
   "source": [
    "## loops in Dictionary"
   ]
  },
  {
   "cell_type": "code",
   "execution_count": 26,
   "id": "3d6fb47f",
   "metadata": {},
   "outputs": [],
   "source": [
    "files={\"jpg\":10,'txt': 15, 'csv': 25, 'cfg': 100}"
   ]
  },
  {
   "cell_type": "code",
   "execution_count": 28,
   "id": "b58f2515",
   "metadata": {},
   "outputs": [
    {
     "name": "stdout",
     "output_type": "stream",
     "text": [
      "jpg\n",
      "txt\n",
      "csv\n",
      "cfg\n"
     ]
    }
   ],
   "source": [
    "for i in files:\n",
    "    print(i)"
   ]
  },
  {
   "cell_type": "code",
   "execution_count": 47,
   "id": "76f68b16",
   "metadata": {},
   "outputs": [
    {
     "name": "stdout",
     "output_type": "stream",
     "text": [
      "('jpg', 10)\n",
      "('txt', 15)\n",
      "('csv', 25)\n",
      "('cfg', 100)\n"
     ]
    }
   ],
   "source": [
    "for i in files.items():  # items() method used to get the value and keys together in dictionary\n",
    "    print(i)\n",
    "    "
   ]
  },
  {
   "cell_type": "code",
   "execution_count": 40,
   "id": "c8ec11fa",
   "metadata": {},
   "outputs": [
    {
     "data": {
      "text/plain": [
       "dict_keys(['jpg', 'txt', 'csv', 'cfg'])"
      ]
     },
     "execution_count": 40,
     "metadata": {},
     "output_type": "execute_result"
    }
   ],
   "source": [
    "files.keys()   # keys() to get the keys from the dictionary"
   ]
  },
  {
   "cell_type": "code",
   "execution_count": 42,
   "id": "e5fdc7a1",
   "metadata": {},
   "outputs": [
    {
     "data": {
      "text/plain": [
       "dict_values([10, 15, 25, 100])"
      ]
     },
     "execution_count": 42,
     "metadata": {},
     "output_type": "execute_result"
    }
   ],
   "source": [
    "files.values()  ##  vlaues() to get the values from the dictionary"
   ]
  },
  {
   "cell_type": "code",
   "execution_count": 43,
   "id": "1db1e956",
   "metadata": {},
   "outputs": [
    {
     "name": "stdout",
     "output_type": "stream",
     "text": [
      "10\n",
      "15\n",
      "25\n",
      "100\n"
     ]
    }
   ],
   "source": [
    "for values in files.values():\n",
    "    print(values)"
   ]
  },
  {
   "cell_type": "code",
   "execution_count": 59,
   "id": "e36cad52",
   "metadata": {},
   "outputs": [
    {
     "name": "stdout",
     "output_type": "stream",
     "text": [
      "jpg\n",
      "txt\n",
      "csv\n",
      "cfg\n"
     ]
    }
   ],
   "source": [
    "for values in files.keys():\n",
    "    print(values)"
   ]
  },
  {
   "cell_type": "markdown",
   "id": "80ca5956",
   "metadata": {},
   "source": [
    "### Adding elements in Dictionary"
   ]
  },
  {
   "cell_type": "code",
   "execution_count": 61,
   "id": "9858109f",
   "metadata": {},
   "outputs": [],
   "source": [
    "purse={}                  # creating a dictionary called purse\n",
    "\n",
    "purse[\"money\"]= 24                # adding '24' as value and 'money' as key\n",
    "purse[\"candy\"]=2\n",
    "purse[\"Tissues\"]=1"
   ]
  },
  {
   "cell_type": "code",
   "execution_count": 58,
   "id": "be820db6",
   "metadata": {},
   "outputs": [
    {
     "name": "stdout",
     "output_type": "stream",
     "text": [
      "{'money': 24, 'candy': 2, 'Tissues': 1}\n"
     ]
    }
   ],
   "source": [
    "print(purse)"
   ]
  },
  {
   "cell_type": "code",
   "execution_count": 72,
   "id": "01691121",
   "metadata": {},
   "outputs": [
    {
     "name": "stdout",
     "output_type": "stream",
     "text": [
      "('money', 24)\n",
      "('candy', 2)\n",
      "('Tissues', 1)\n"
     ]
    }
   ],
   "source": [
    "for i in purse.items():\n",
    "    print(i)"
   ]
  },
  {
   "cell_type": "markdown",
   "id": "d461c0c6",
   "metadata": {},
   "source": [
    "## Get method"
   ]
  },
  {
   "cell_type": "code",
   "execution_count": 73,
   "id": "2bfc43ab",
   "metadata": {},
   "outputs": [],
   "source": [
    "car = {\n",
    "  \"brand\": \"Ford\",\n",
    "  \"model\": \"Mustang\",\n",
    "  \"year\": 1964\n",
    "}"
   ]
  },
  {
   "cell_type": "code",
   "execution_count": 87,
   "id": "eec6ff39",
   "metadata": {},
   "outputs": [
    {
     "name": "stdout",
     "output_type": "stream",
     "text": [
      "Mustang\n"
     ]
    }
   ],
   "source": [
    "x=car.get(\"model\")  # get() method used in disctionaries to get the values with keys\n",
    "\n",
    "print(x)"
   ]
  },
  {
   "cell_type": "code",
   "execution_count": 95,
   "id": "ff31c551",
   "metadata": {},
   "outputs": [
    {
     "name": "stdout",
     "output_type": "stream",
     "text": [
      "dict_values(['Ford', 'Mustang', 1964])\n"
     ]
    }
   ],
   "source": [
    "print(car.values())"
   ]
  },
  {
   "cell_type": "markdown",
   "id": "3af571a0",
   "metadata": {},
   "source": [
    "## unpacking of dictionary"
   ]
  },
  {
   "cell_type": "code",
   "execution_count": 106,
   "id": "c82d8fa1",
   "metadata": {},
   "outputs": [],
   "source": [
    "x,y,z=car.values()"
   ]
  },
  {
   "cell_type": "code",
   "execution_count": 108,
   "id": "f37f8b5f",
   "metadata": {},
   "outputs": [
    {
     "name": "stdout",
     "output_type": "stream",
     "text": [
      "Mustang Ford 1964\n"
     ]
    }
   ],
   "source": [
    "print(y,x,z)"
   ]
  },
  {
   "cell_type": "code",
   "execution_count": 112,
   "id": "e8f689a0",
   "metadata": {},
   "outputs": [
    {
     "name": "stdout",
     "output_type": "stream",
     "text": [
      "['I', 'love', 'the', 'car']\n"
     ]
    },
    {
     "data": {
      "text/plain": [
       "list"
      ]
     },
     "execution_count": 112,
     "metadata": {},
     "output_type": "execute_result"
    }
   ],
   "source": [
    "a=\"I love the car\"\n",
    "\n",
    "b=a.split()\n",
    "print(b)\n",
    "type(b)\n"
   ]
  },
  {
   "cell_type": "markdown",
   "id": "5283f52c",
   "metadata": {},
   "source": [
    "### counting the words with Dictionary"
   ]
  },
  {
   "cell_type": "code",
   "execution_count": 115,
   "id": "2ba87201",
   "metadata": {},
   "outputs": [
    {
     "name": "stdout",
     "output_type": "stream",
     "text": [
      "Enter the line\n",
      "\n",
      "Counting....!\n",
      "{}\n"
     ]
    }
   ],
   "source": [
    "counts={}  # creating a dictionary\n",
    "\n",
    "print(\"Enter the line\")  # input\n",
    "\n",
    "line=input(\"\")   # assigning input in the form of string\n",
    "\n",
    "words=line.split()    # spliting the line into words\n",
    "print(\"Counting....!\")\n",
    "\n",
    "for word in words:                 # loop \n",
    "    if word not in counts:\n",
    "        counts[word]=1\n",
    "    else:\n",
    "        counts[word]=counts[word]+1\n",
    "\n",
    "print(counts)"
   ]
  },
  {
   "cell_type": "code",
   "execution_count": 116,
   "id": "71c293e7",
   "metadata": {},
   "outputs": [],
   "source": [
    "file= {\n",
    "    \n",
    "    \"Akhil\":10,\n",
    "    \"Athira\":25,\n",
    "    \"Ammu\":24\n",
    "}"
   ]
  },
  {
   "cell_type": "code",
   "execution_count": 124,
   "id": "4ae4d730",
   "metadata": {},
   "outputs": [
    {
     "name": "stdout",
     "output_type": "stream",
     "text": [
      "Akhil 10\n",
      "Athira 25\n",
      "Ammu 24\n"
     ]
    }
   ],
   "source": [
    "for i in file:\n",
    "    print(i,file[i])"
   ]
  },
  {
   "cell_type": "code",
   "execution_count": 129,
   "id": "a31e54a0",
   "metadata": {},
   "outputs": [
    {
     "name": "stdout",
     "output_type": "stream",
     "text": [
      "Akhil 10\n",
      "Athira 25\n",
      "Ammu 24\n"
     ]
    }
   ],
   "source": [
    "for a,b in file.items():\n",
    "    print(a,b)"
   ]
  },
  {
   "cell_type": "markdown",
   "id": "c10bc70f",
   "metadata": {},
   "source": [
    "## Counting the words from a given file"
   ]
  },
  {
   "cell_type": "code",
   "execution_count": 190,
   "id": "b649ae02",
   "metadata": {},
   "outputs": [
    {
     "name": "stdout",
     "output_type": "stream",
     "text": [
      "{'So': 5, 'now': 1, \"we're\": 10, 'going': 14, 'to': 21, 'combine': 0, 'all': 1, 'this': 8, 'together.': 0, \"We're\": 3, 'read': 3, 'some': 3, 'data,': 0, 'a': 10, 'file,': 1, 'make': 2, 'dictionaries,': 0, 'lists.': 0, 'And': 3, 'use': 2, 'these': 1, 'things': 1, 'build': 0, 'real': 1, 'program.': 0, 'what': 3, 'the': 10, 'program': 0, 'is': 3, 'solve...': 0, 'and': 5, 'so': 3, \"let's\": 1, 'see': 0, 'if': 0, 'you': 2, 'can': 1, 'solve': 1, 'this,': 1, 'right?': 0, 'Read': 0, 'text': 2, 'really': 0, 'quick,': 0, 'like': 2, 'in': 0, 'hundredth': 0, 'of': 5, 'second': 0, 'or': 0, 'figure': 1, 'out': 0, 'most': 1, 'common': 1, 'word': 1, 'how': 4, 'many': 1, 'there': 0, 'are.': 0, \"It's\": 1, 'kind': 0, 'problem': 0, 'we': 8, 'showed': 0, 'before,': 0, 'except': 0, 'I': 3, 'was': 0, 'showing': 0, 'names.': 0, 'it': 0, 'out.': 2, 'What': 0, 'are': 2, 'there?': 0, 'Or': 0, 'maybe,': 0, 'just': 3, 'skip': 0, 'next': 0, 'slide,': 0, 'because': 0, 'humans': 1, 'bad': 0, 'at': 1, 'this.': 0, 'mean,': 0, 'looking': 0, 'saying': 0, 'like,': 0, 'um,': 0, 'no,': 0, 'refuse': 0, 'do': 1, 'as': 0, 'compared': 0, 'other': 0, 'ones': 0, 'actually': 0, 'tried.': 0, 'Now': 0, 'not': 0, 'even': 0, 'try.': 0, 'dude,': 0, 'about': 0, 'write': 1, 'Python': 0, 'code': 0, 'problem?': 0, 'know': 0, 'turns': 0, \"We've\": 0, 'seen': 0, 'story': 0, 'before.': 0, 'Okay.': 0, \"here's\": 1, 'basic': 0, 'pattern.': 0, 'dictionary.': 1, 'split.': 0, 'Split': 0, 'gives': 0, 'us': 0, 'back': 1, 'list.': 1, 'then': 4, 'loop': 2, 'through': 2, 'list': 1, 'histogram': 0, 'pattern': 0, 'go': 0, 'program,': 0, 'which': 0, \"we'll\": 0, 'soon': 0, 'switch': 0, 'reading': 0, 'whole': 0, 'but': 0, 'for': 0, 'single': 0, 'line.': 0, 'Then': 0, 'learn': 0, 'another': 0, 'outside': 0, 'loop.': 0, 'do.': 0, 'We': 1, 'start': 0, 'out,': 0, 'line': 1, 'type,': 3, 'type.': 0, 'Line': 0, 'goes': 0, 'into': 0, 'variable': 0, 'line,': 0, 'split': 0, 'it.': 0, 'Right?': 0, 'get': 0, 'words.': 0, 'print': 0, 'those': 0, 'words': 1, 'doing': 0, 'whatever': 0, 'that': 0, 'was,': 0}\n"
     ]
    }
   ],
   "source": [
    "path=open(\"E:\\\\Karthik\\\\py.txt\") # opening the file using open()\n",
    "\n",
    "line=path.read()                  # reading the file using read()\n",
    "\n",
    "words =line.split()     # spliting the line into words list using split() method\n",
    "count={}\n",
    "\n",
    "for word in words:\n",
    "    if word not in count:\n",
    "        count[word]=0\n",
    "    else:\n",
    "        count[word]+=1\n",
    "print(count)"
   ]
  },
  {
   "cell_type": "code",
   "execution_count": 196,
   "id": "c809902c",
   "metadata": {},
   "outputs": [
    {
     "name": "stdout",
     "output_type": "stream",
     "text": [
      "21 to\n"
     ]
    }
   ],
   "source": [
    "bigcount=None\n",
    "bigname=None\n",
    "\n",
    "for key,number in count.items():\n",
    "    \n",
    "    if bigcount== None or count[key] > bigcount :\n",
    "        \n",
    "        bigcount=count[key]\n",
    "        bigname=key\n",
    "        \n",
    "        \n",
    "print(bigcount,bigname)\n",
    "\n"
   ]
  },
  {
   "cell_type": "code",
   "execution_count": null,
   "id": "fd811919",
   "metadata": {},
   "outputs": [],
   "source": []
  },
  {
   "cell_type": "code",
   "execution_count": null,
   "id": "d140c0e8",
   "metadata": {},
   "outputs": [],
   "source": []
  },
  {
   "cell_type": "code",
   "execution_count": null,
   "id": "703faeda",
   "metadata": {},
   "outputs": [],
   "source": []
  }
 ],
 "metadata": {
  "kernelspec": {
   "display_name": "Python 3 (ipykernel)",
   "language": "python",
   "name": "python3"
  },
  "language_info": {
   "codemirror_mode": {
    "name": "ipython",
    "version": 3
   },
   "file_extension": ".py",
   "mimetype": "text/x-python",
   "name": "python",
   "nbconvert_exporter": "python",
   "pygments_lexer": "ipython3",
   "version": "3.11.4"
  }
 },
 "nbformat": 4,
 "nbformat_minor": 5
}
