{
 "cells": [
  {
   "cell_type": "markdown",
   "id": "6c7abf4c",
   "metadata": {},
   "source": [
    "\n",
    "The function sum_positive_numbers should return the sum of all positive numbers  between the number n received and 1. For example, when n is 3 it should return 1+2+3=6,  and when n is 5 it should return 1+2+3+4+5=15. Fill in the gaps to make this work:\n",
    "\n",
    "\n",
    "\n",
    "\n"
   ]
  },
  {
   "cell_type": "code",
   "execution_count": null,
   "id": "a4a87821",
   "metadata": {},
   "outputs": [],
   "source": [
    "def sum_positive_numbers(n):\n",
    "                                # The base case is n being smaller than 1\n",
    "    if n < 1:\n",
    "        return n\n",
    "\n",
    "                            # The recursive case is adding this number to \n",
    "                            # the sum of the numbers smaller than this one.\n",
    "    return n + sum_positive_numbers(n-1)"
   ]
  },
  {
   "cell_type": "code",
   "execution_count": 7,
   "id": "b1f9175d",
   "metadata": {},
   "outputs": [
    {
     "name": "stdout",
     "output_type": "stream",
     "text": [
      "21\n"
     ]
    }
   ],
   "source": [
    "print(sum_positive_numbers(6)) "
   ]
  },
  {
   "cell_type": "markdown",
   "id": "9e98f3d7",
   "metadata": {},
   "source": [
    "Factorial of a number is the product of all \n",
    "the integers from 1 to that number. For example, the factorial of 6 (denoted as 6!) is 1*2*3*4*5*6 = 720."
   ]
  },
  {
   "cell_type": "code",
   "execution_count": 20,
   "id": "47601f43",
   "metadata": {},
   "outputs": [],
   "source": [
    "def factorial(n):\n",
    "    if n <= 1:\n",
    "        return(n)\n",
    "    \n",
    "    return n*factorial(n-1)\n"
   ]
  },
  {
   "cell_type": "code",
   "execution_count": 22,
   "id": "16724da5",
   "metadata": {},
   "outputs": [
    {
     "name": "stdout",
     "output_type": "stream",
     "text": [
      "24\n"
     ]
    }
   ],
   "source": [
    "print(factorial(4))"
   ]
  },
  {
   "cell_type": "markdown",
   "id": "4e7df7d4",
   "metadata": {},
   "source": [
    "A recursive function must include a recursive case and base case. The recursive case calls the function again, with a different value. The base case returns a value without calling the same function."
   ]
  },
  {
   "cell_type": "code",
   "execution_count": 23,
   "id": "2dfe7c0e",
   "metadata": {},
   "outputs": [],
   "source": [
    "def recursive_function(parameters):\n",
    "    if base_case_condition(parameters):\n",
    "        return base_case_value\n",
    "    recursive_function(modified_parameters)"
   ]
  }
 ],
 "metadata": {
  "kernelspec": {
   "display_name": "Python 3 (ipykernel)",
   "language": "python",
   "name": "python3"
  },
  "language_info": {
   "codemirror_mode": {
    "name": "ipython",
    "version": 3
   },
   "file_extension": ".py",
   "mimetype": "text/x-python",
   "name": "python",
   "nbconvert_exporter": "python",
   "pygments_lexer": "ipython3",
   "version": "3.11.4"
  }
 },
 "nbformat": 4,
 "nbformat_minor": 5
}
