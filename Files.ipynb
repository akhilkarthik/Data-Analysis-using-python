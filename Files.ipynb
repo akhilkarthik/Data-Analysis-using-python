{
 "cells": [
  {
   "cell_type": "markdown",
   "id": "a6f5376c",
   "metadata": {},
   "source": [
    "### Opening and reading file "
   ]
  },
  {
   "cell_type": "code",
   "execution_count": null,
   "id": "92493a33",
   "metadata": {},
   "outputs": [],
   "source": [
    "file=open(\"C:\\\\Users\\\\akhil\\OneDrive\\Desktop\\python\\py1.txt\")"
   ]
  },
  {
   "cell_type": "code",
   "execution_count": 85,
   "id": "5c5d6cbf",
   "metadata": {},
   "outputs": [
    {
     "name": "stdout",
     "output_type": "stream",
     "text": [
      "In the introductory course to Python,\n",
      "\n"
     ]
    }
   ],
   "source": [
    "print(file.readline())  # readline method let us to read a single line of a file"
   ]
  },
  {
   "cell_type": "code",
   "execution_count": 86,
   "id": "c35cd099",
   "metadata": {},
   "outputs": [
    {
     "name": "stdout",
     "output_type": "stream",
     "text": [
      "we provided information to our scripts by creating variables and passing parameters to our functions with the values that we wanted.\n",
      "\n"
     ]
    }
   ],
   "source": [
    "print(file.readline()) # Each time we call the readline() method, the file object updates the current position in the file"
   ]
  },
  {
   "cell_type": "code",
   "execution_count": 87,
   "id": "e7eaae1f",
   "metadata": {},
   "outputs": [
    {
     "name": "stdout",
     "output_type": "stream",
     "text": [
      "This works fine for small scripts\n",
      "but it's usually not ideal for larger jobs. When processing large chunks of data\n",
      "it's a good idea to read that data from files. \n"
     ]
    }
   ],
   "source": [
    "print(file.read())              # read() method reads all the lines from current position"
   ]
  },
  {
   "cell_type": "code",
   "execution_count": 92,
   "id": "13b16a80",
   "metadata": {},
   "outputs": [],
   "source": [
    "file.close()                      # closing the file "
   ]
  },
  {
   "cell_type": "markdown",
   "id": "3f2d0918",
   "metadata": {},
   "source": [
    " we can use \"With\" inorder to open files inside with clause and dont need to close after this"
   ]
  },
  {
   "cell_type": "code",
   "execution_count": 94,
   "id": "ef5af6cb",
   "metadata": {},
   "outputs": [
    {
     "name": "stdout",
     "output_type": "stream",
     "text": [
      "In the introductory course to Python,\n",
      "we provided information to our scripts by creating variables and passing parameters to our functions with the values that we wanted.\n",
      "This works fine for small scripts\n",
      "but it's usually not ideal for larger jobs. When processing large chunks of data\n",
      "it's a good idea to read that data from files. \n"
     ]
    }
   ],
   "source": [
    "with open(\"C:\\\\Users\\\\akhil\\OneDrive\\Desktop\\python\\py1.txt\") as file:\n",
    "    print(file.read())"
   ]
  },
  {
   "cell_type": "markdown",
   "id": "68042d3a",
   "metadata": {},
   "source": [
    "### Iterating through files"
   ]
  },
  {
   "cell_type": "code",
   "execution_count": 2,
   "id": "526c17fa",
   "metadata": {},
   "outputs": [
    {
     "name": "stdout",
     "output_type": "stream",
     "text": [
      "IN THE INTRODUCTORY COURSE TO PYTHON,\n",
      "WE PROVIDED INFORMATION TO OUR SCRIPTS BY CREATING VARIABLES AND PASSING PARAMETERS TO OUR FUNCTIONS WITH THE VALUES THAT WE WANTED.\n",
      "THIS WORKS FINE FOR SMALL SCRIPTS\n",
      "BUT IT'S USUALLY NOT IDEAL FOR LARGER JOBS. WHEN PROCESSING LARGE CHUNKS OF DATA\n",
      "IT'S A GOOD IDEA TO READ THAT DATA FROM FILES.\n"
     ]
    }
   ],
   "source": [
    "with open(\"C:\\\\Users\\\\akhil\\OneDrive\\Desktop\\python\\py1.txt\") as file:\n",
    "    for line in file:\n",
    "        line=line.strip()  # strip() method used to remove all the spaces including new line\n",
    "        print(line.upper())"
   ]
  },
  {
   "cell_type": "code",
   "execution_count": 9,
   "id": "fb3b8e40",
   "metadata": {},
   "outputs": [
    {
     "name": "stdout",
     "output_type": "stream",
     "text": [
      "['In the introductory course to Python,\\n', 'we provided information to our scripts by creating variables and passing parameters to our functions with the values that we wanted.\\n', 'This works fine for small scripts\\n', \"but it's usually not ideal for larger jobs. When processing large chunks of data\\n\", \"it's a good idea to read that data from files. \"]\n"
     ]
    }
   ],
   "source": [
    "file=open(\"C:\\\\Users\\\\akhil\\OneDrive\\Desktop\\python\\py1.txt\")\n",
    "\n",
    "line=file.readlines()\n",
    "file.close()\n",
    "print(line)"
   ]
  },
  {
   "cell_type": "code",
   "execution_count": 19,
   "id": "0c726775",
   "metadata": {},
   "outputs": [
    {
     "name": "stdout",
     "output_type": "stream",
     "text": [
      "['In', 'the', 'introductory', 'course', 'to', 'Python,', 'we', 'provided', 'information', 'to', 'our', 'scripts', 'by', 'creating', 'variables', 'and', 'passing', 'parameters', 'to', 'our', 'functions', 'with', 'the', 'values', 'that', 'we', 'wanted.', 'This', 'works', 'fine', 'for', 'small', 'scripts', 'but', \"it's\", 'usually', 'not', 'ideal', 'for', 'larger', 'jobs.', 'When', 'processing', 'large', 'chunks', 'of', 'data', \"it's\", 'a', 'good', 'idea', 'to', 'read', 'that', 'data', 'from', 'files.']\n"
     ]
    }
   ],
   "source": [
    "file=open(\"C:\\\\Users\\\\akhil\\OneDrive\\Desktop\\python\\py1.txt\")\n",
    "files=file.read()\n",
    "words=files.split()   # split() method is used to split the sentences into words\n",
    "\n",
    "print(words)\n",
    "\n"
   ]
  },
  {
   "cell_type": "code",
   "execution_count": 27,
   "id": "1c0f86ef",
   "metadata": {},
   "outputs": [],
   "source": [
    "file=open(\"C:\\\\Users\\\\akhil\\OneDrive\\Desktop\\python\\py1.txt\")\n",
    "files=file.read()\n",
    "\n",
    "wordlist=[]\n",
    "words=files.split()   # split() method is used to split the sentences into words\n",
    "\n",
    "for word in words:\n",
    "    wordlist.append(word)  # append() method used to append values into the list \n",
    "    "
   ]
  },
  {
   "cell_type": "code",
   "execution_count": 28,
   "id": "0c7881e8",
   "metadata": {},
   "outputs": [
    {
     "name": "stdout",
     "output_type": "stream",
     "text": [
      "['In', 'the', 'introductory', 'course', 'to', 'Python,', 'we', 'provided', 'information', 'to', 'our', 'scripts', 'by', 'creating', 'variables', 'and', 'passing', 'parameters', 'to', 'our', 'functions', 'with', 'the', 'values', 'that', 'we', 'wanted.', 'This', 'works', 'fine', 'for', 'small', 'scripts', 'but', \"it's\", 'usually', 'not', 'ideal', 'for', 'larger', 'jobs.', 'When', 'processing', 'large', 'chunks', 'of', 'data', \"it's\", 'a', 'good', 'idea', 'to', 'read', 'that', 'data', 'from', 'files.']\n"
     ]
    }
   ],
   "source": [
    "print(wordlist)"
   ]
  },
  {
   "cell_type": "code",
   "execution_count": 40,
   "id": "661bcde2",
   "metadata": {},
   "outputs": [
    {
     "name": "stdout",
     "output_type": "stream",
     "text": [
      "57\n"
     ]
    }
   ],
   "source": [
    "count=0                        \n",
    "for i in wordlist:\n",
    "    count+=1                  # for finding the count of elements in a file or list\n",
    "    \n",
    "print(count)"
   ]
  },
  {
   "cell_type": "code",
   "execution_count": 66,
   "id": "24e49fa2",
   "metadata": {},
   "outputs": [],
   "source": [
    "def wordcount(name):\n",
    "    a=input(\"enter the key word \\n\")\n",
    "    a=str(a)\n",
    "    count=0\n",
    "    for i in name:\n",
    "        if i==\"for\":\n",
    "            count+=1\n",
    "    print(count)"
   ]
  },
  {
   "cell_type": "code",
   "execution_count": 67,
   "id": "66a8b02b",
   "metadata": {},
   "outputs": [
    {
     "name": "stdout",
     "output_type": "stream",
     "text": [
      "enter the key word \n",
      "for\n",
      "2\n"
     ]
    }
   ],
   "source": [
    "wordcount(wordlist)"
   ]
  },
  {
   "cell_type": "code",
   "execution_count": 50,
   "id": "b0f4cd65",
   "metadata": {},
   "outputs": [
    {
     "name": "stdout",
     "output_type": "stream",
     "text": [
      "6\n"
     ]
    }
   ],
   "source": []
  }
 ],
 "metadata": {
  "kernelspec": {
   "display_name": "Python 3 (ipykernel)",
   "language": "python",
   "name": "python3"
  },
  "language_info": {
   "codemirror_mode": {
    "name": "ipython",
    "version": 3
   },
   "file_extension": ".py",
   "mimetype": "text/x-python",
   "name": "python",
   "nbconvert_exporter": "python",
   "pygments_lexer": "ipython3",
   "version": "3.11.4"
  }
 },
 "nbformat": 4,
 "nbformat_minor": 5
}
