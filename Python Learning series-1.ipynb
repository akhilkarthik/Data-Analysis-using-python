{
 "cells": [
  {
   "cell_type": "code",
   "execution_count": 4,
   "id": "a632f164",
   "metadata": {},
   "outputs": [
    {
     "name": "stdout",
     "output_type": "stream",
     "text": [
      "Enter the number5\n",
      "5 is a positive number\n"
     ]
    }
   ],
   "source": [
    "a=input(\"Enter the number\",)\n",
    "a=int(a)\n",
    "\n",
    "if a>0:\n",
    "    print(a,\"is a positive number\")\n",
    "elif a<0:\n",
    "    print (a,\"is a negative number \") \n",
    "else :\n",
    "    print (a,\"is Zero\") \n",
    "        \n",
    "             \n"
   ]
  },
  {
   "cell_type": "code",
   "execution_count": 5,
   "id": "d0b56bc1",
   "metadata": {},
   "outputs": [
    {
     "data": {
      "text/plain": [
       "25"
      ]
     },
     "execution_count": 5,
     "metadata": {},
     "output_type": "execute_result"
    }
   ],
   "source": [
    "5*5\n"
   ]
  },
  {
   "cell_type": "markdown",
   "id": "647dd091",
   "metadata": {},
   "source": [
    "## Break Statement\n",
    "\n",
    "Break statement skips out of the loop"
   ]
  },
  {
   "cell_type": "code",
   "execution_count": 1,
   "id": "8cca4cdc",
   "metadata": {},
   "outputs": [
    {
     "name": "stdout",
     "output_type": "stream",
     "text": [
      "<d\n",
      "d\n",
      "<d\n",
      "d\n",
      "<d\n",
      "d\n",
      "<d\n",
      "d\n",
      "<d\n",
      "d\n",
      "<done\n",
      "Done!\n"
     ]
    }
   ],
   "source": [
    "while True:\n",
    "    line=input(\"<\",)\n",
    "    if line == \"done\":\n",
    "        break\n",
    "    print (line)\n",
    "print(\"Done!\")    "
   ]
  },
  {
   "cell_type": "markdown",
   "id": "2d8a2f14",
   "metadata": {},
   "source": [
    "## Continue Statement\n",
    "\n",
    "Continue statement skip and continue with the top step of the loop"
   ]
  },
  {
   "cell_type": "code",
   "execution_count": null,
   "id": "98be6a7b",
   "metadata": {},
   "outputs": [
    {
     "name": "stdout",
     "output_type": "stream",
     "text": [
      ">..........hi\n",
      "Your message is  hi\n",
      ">..........d\n",
      "Your message is  d\n",
      ">..........d\n",
      "Your message is  d\n",
      ">..........d\n",
      "Your message is  d\n",
      ">..........d\n",
      "Your message is  d\n",
      ">..........a\n",
      "Your message is  a\n",
      ">..........r\n",
      "Your message is  r\n",
      ">..........#\n",
      ">..........\"#\"\n",
      "Your message is  \"#\"\n",
      ">..........#\n",
      ">..........#\n"
     ]
    }
   ],
   "source": [
    "while True:\n",
    "    line=input(\">..........\",)\n",
    "    \n",
    "    if line[0]==\"#\":\n",
    "         continue\n",
    "    if line==\"done\":\n",
    "        break\n",
    "    print(\"Your message is \",line)\n",
    "print(\"Done!\")"
   ]
  },
  {
   "cell_type": "markdown",
   "id": "74509fbc",
   "metadata": {},
   "source": [
    "## Definite loops\n",
    "\n",
    "\n",
    "## for loops"
   ]
  },
  {
   "cell_type": "code",
   "execution_count": 3,
   "id": "66c47065",
   "metadata": {},
   "outputs": [
    {
     "name": "stdout",
     "output_type": "stream",
     "text": [
      "5\n",
      "4\n",
      "3\n",
      "2\n",
      "1\n",
      "End!\n"
     ]
    }
   ],
   "source": [
    "for i in [5,4,3,2,1]:\n",
    "    \n",
    "    print (i)\n",
    "    \n",
    "print(\"End!\")"
   ]
  },
  {
   "cell_type": "code",
   "execution_count": 10,
   "id": "0dfc8a28",
   "metadata": {},
   "outputs": [
    {
     "name": "stdout",
     "output_type": "stream",
     "text": [
      "Hello My dear Reshma !\n",
      "Hello My dear Athira !\n",
      "Hello My dear Ammu !\n",
      "Done!\n"
     ]
    }
   ],
   "source": [
    "Friends=[\"Reshma\",\"Athira\",\"Ammu\"] #assigning the names in the list called \"friends\"\n",
    "\n",
    "for friend in Friends:            # for loop\n",
    "    \n",
    "    print(\"Hello My dear\",friend,\"!\")\n",
    "    \n",
    "    \n",
    "print(\"Done!\")"
   ]
  },
  {
   "cell_type": "code",
   "execution_count": 20,
   "id": "aea4672b",
   "metadata": {},
   "outputs": [
    {
     "name": "stdout",
     "output_type": "stream",
     "text": [
      "12\n",
      "3\n",
      "74\n",
      "56\n",
      "9\n",
      "6\n",
      "28\n",
      "46\n",
      "93\n",
      "100\n",
      "4\n",
      "59\n",
      "503\n",
      "45\n",
      "2\n",
      "19\n",
      "20\n",
      "The largest number is 503\n"
     ]
    }
   ],
   "source": [
    "largestsoFar=-1\n",
    "\n",
    "Numbers=[12,3,74,56,9,6,28,46,93,100,4,59,503,45,2,19,20]\n",
    "\n",
    "for i in Numbers:\n",
    "    print (i)\n",
    "    if i>largestsoFar:\n",
    "        largestsoFar=i\n",
    "    else:\n",
    "        continue\n",
    "        \n",
    "print(\"The largest number is\", largestsoFar)"
   ]
  },
  {
   "cell_type": "code",
   "execution_count": 70,
   "id": "b0b8750c",
   "metadata": {},
   "outputs": [],
   "source": [
    "def Max(Numbers):\n",
    "    ln=-1\n",
    "    for i in Numbers:\n",
    "        print(i)\n",
    "        if i>ln:\n",
    "            ln=i\n",
    "    print(\"The largest number is  \",ln)  \n",
    "    "
   ]
  },
  {
   "cell_type": "code",
   "execution_count": 71,
   "id": "e27289c3",
   "metadata": {},
   "outputs": [
    {
     "data": {
      "text/plain": [
       "347"
      ]
     },
     "execution_count": 71,
     "metadata": {},
     "output_type": "execute_result"
    }
   ],
   "source": [
    "max([2,72,59,87,2,4,27,100,285,62,347,174,52])"
   ]
  },
  {
   "cell_type": "code",
   "execution_count": 73,
   "id": "a6fc40d9",
   "metadata": {},
   "outputs": [],
   "source": [
    "def min(Numbers):\n",
    "    sofarMinNumber=100\n",
    "    for i in Numbers:\n",
    "        print(i)\n",
    "        if i<sofarMinNumber:\n",
    "            sofarMinNumber=i\n",
    "    print(\"The smallest number is  \",sofarMinNumber)\n",
    "        "
   ]
  },
  {
   "cell_type": "code",
   "execution_count": 75,
   "id": "4b94bf58",
   "metadata": {},
   "outputs": [
    {
     "name": "stdout",
     "output_type": "stream",
     "text": [
      "2\n",
      "72\n",
      "59\n",
      "87\n",
      "2\n",
      "4\n",
      "27\n",
      "100\n",
      "285\n",
      "62\n",
      "347\n",
      "174\n",
      "52\n",
      "The smallest number is   2\n"
     ]
    }
   ],
   "source": [
    "min([2,72,59,87,2,4,27,100,285,62,347,174,52])"
   ]
  },
  {
   "cell_type": "code",
   "execution_count": 84,
   "id": "de953995",
   "metadata": {},
   "outputs": [],
   "source": [
    "def Cmp(Numbers):\n",
    "    largestSoFar=-1\n",
    "    smallestSoFar=100\n",
    "    for i in Numbers:\n",
    "       a=i\n",
    "       if i>largestSoFar:\n",
    "        largestSoFar=i\n",
    "       else:\n",
    "         continue\n",
    "       \n",
    "    for i in Numbers:\n",
    "       b=i\n",
    "       if i<smallestSoFar:\n",
    "        smallestSoFar=i\n",
    "       else:\n",
    "         continue\n",
    "       \n",
    "    print(\"The largest number is \",largestSoFar)\n",
    "    print(\"The Smallest number is \",smallestSoFar)"
   ]
  },
  {
   "cell_type": "code",
   "execution_count": 86,
   "id": "2424fea0",
   "metadata": {},
   "outputs": [
    {
     "name": "stdout",
     "output_type": "stream",
     "text": [
      "The largest number is  347\n",
      "The Smallest number is  2\n"
     ]
    }
   ],
   "source": [
    "Cmp([2,72,59,87,2,4,27,100,285,62,347,174,52])"
   ]
  },
  {
   "cell_type": "markdown",
   "id": "0c415035",
   "metadata": {},
   "source": [
    "## Counting In a Loop"
   ]
  },
  {
   "cell_type": "code",
   "execution_count": 89,
   "id": "558f144d",
   "metadata": {},
   "outputs": [
    {
     "name": "stdout",
     "output_type": "stream",
     "text": [
      "Before the Iteration count  is  1\n",
      "1 2\n",
      "2 72\n",
      "3 59\n",
      "4 87\n",
      "5 2\n",
      "6 4\n",
      "7 27\n",
      "8 100\n",
      "9 285\n",
      "10 62\n",
      "11 347\n",
      "12 174\n",
      "13 52\n",
      "After the iteration count is  14\n"
     ]
    }
   ],
   "source": [
    "Numbers=[2,72,59,87,2,4,27,100,285,62,347,174,52]\n",
    "count=1\n",
    "\n",
    "print (\"Before the Iteration count  is \",count)\n",
    "for i in Numbers:\n",
    "    print(count,i)\n",
    "    count=count+1\n",
    "print(\"After the iteration count is \",count)    \n",
    "    \n",
    "\n"
   ]
  },
  {
   "cell_type": "markdown",
   "id": "9bf42f6d",
   "metadata": {},
   "source": [
    "## Creating Maths function "
   ]
  },
  {
   "cell_type": "code",
   "execution_count": 181,
   "id": "9c2ab57f",
   "metadata": {},
   "outputs": [],
   "source": [
    "def Maths (Numbers):\n",
    "    largestSoFar=-1\n",
    "    smallestSoFar=100\n",
    "    count=1\n",
    "    sum=0\n",
    "    product=1\n",
    "    for i in Numbers:\n",
    "       a=i\n",
    "       if i>largestSoFar:\n",
    "        largestSoFar=i\n",
    "        y=i\n",
    "       \n",
    "    for i in Numbers:\n",
    "       b=i\n",
    "       if i<smallestSoFar:\n",
    "        smallestSoFar=i\n",
    "            \n",
    "    for i in Numbers:\n",
    "        count=count+1\n",
    "        \n",
    "    for i in Numbers:\n",
    "        sum=sum+i\n",
    "    for i in Numbers:\n",
    "        product=product*i\n",
    "\n",
    "    print(\"The largest number is: \",largestSoFar)\n",
    "    print(\"The Smallest number is: \",smallestSoFar)\n",
    "    print(\"Total count of the numbers is: \",count)\n",
    "    print(\"The sum of the total numbers is: \",sum)\n",
    "    print(\"The product of the total numbers is: \",product)\n",
    "    print(\"The average of the Numbers is:\" ,sum/count)\n",
    "    "
   ]
  },
  {
   "cell_type": "code",
   "execution_count": 182,
   "id": "54ea97de",
   "metadata": {},
   "outputs": [
    {
     "name": "stdout",
     "output_type": "stream",
     "text": [
      "The largest number is:  347\n",
      "The Smallest number is:  2\n",
      "Total count of the numbers is:  14\n",
      "The sum of the total numbers is:  1273\n",
      "The product of the total numbers is:  885739726446142464000\n",
      "The average of the Numbers is: 90.92857142857143\n"
     ]
    }
   ],
   "source": [
    "Maths(Numbers)"
   ]
  },
  {
   "cell_type": "code",
   "execution_count": 183,
   "id": "4506558b",
   "metadata": {},
   "outputs": [
    {
     "name": "stdout",
     "output_type": "stream",
     "text": [
      "2\n",
      "72\n",
      "59\n",
      "87\n",
      "2\n",
      "4\n",
      "27\n",
      "100\n",
      "285\n",
      "62\n",
      "347\n",
      "174\n",
      "52\n",
      "1273\n"
     ]
    }
   ],
   "source": [
    "Numbers=[2,72,59,87,2,4,27,100,285,62,347,174,52]\n",
    "a=0\n",
    "\n",
    "for i in Numbers:\n",
    "    print(i)\n",
    "    a=a+i\n",
    "    \n",
    "print(a)"
   ]
  },
  {
   "cell_type": "markdown",
   "id": "1ff6ea4a",
   "metadata": {},
   "source": [
    "## filtering the loop\n",
    "\n",
    "we use if statement in the loop for catching or finding the values\n"
   ]
  },
  {
   "cell_type": "code",
   "execution_count": 184,
   "id": "cfe2fc39",
   "metadata": {},
   "outputs": [
    {
     "name": "stdout",
     "output_type": "stream",
     "text": [
      "False 2\n",
      "False 72\n",
      "False 59\n",
      "True 87\n",
      "False 2\n",
      "False 4\n",
      "False 27\n",
      "True 100\n",
      "True 285\n",
      "False 62\n",
      "True 347\n",
      "True 174\n",
      "False 52\n"
     ]
    }
   ],
   "source": [
    "Numbers=[2,72,59,87,2,4,27,100,285,62,347,174,52]\n",
    "\n",
    "for i in Numbers:  \n",
    "    if i>75:\n",
    "        a =\"True\"\n",
    "    else:\n",
    "        a=\"False\"\n",
    "    print(a,i)"
   ]
  },
  {
   "cell_type": "markdown",
   "id": "10fca14e",
   "metadata": {},
   "source": [
    "### Using boolian variable in order to find or check if something is present or not"
   ]
  },
  {
   "cell_type": "code",
   "execution_count": 186,
   "id": "7b1be961",
   "metadata": {},
   "outputs": [
    {
     "name": "stdout",
     "output_type": "stream",
     "text": [
      "2 False\n",
      "72 False\n",
      "59 False\n",
      "87 False\n",
      "2 False\n",
      "4 True\n"
     ]
    }
   ],
   "source": [
    "Numbers=[2,72,59,87,2,4,27,100,285,62,347,174,52]\n",
    "check=False\n",
    "count=0\n",
    "\n",
    "for value in Numbers:\n",
    "    if value==4:\n",
    "        check=True\n",
    "        print(value,check)\n",
    "        break\n",
    "    print(value,check)\n",
    "    "
   ]
  },
  {
   "cell_type": "markdown",
   "id": "d1ec4d4e",
   "metadata": {},
   "source": [
    "## none \n"
   ]
  },
  {
   "cell_type": "code",
   "execution_count": 202,
   "id": "6d3a0985",
   "metadata": {},
   "outputs": [
    {
     "name": "stdout",
     "output_type": "stream",
     "text": [
      "2 2\n",
      "2 72\n",
      "2 59\n",
      "2 87\n",
      "2 2\n",
      "2 4\n",
      "2 27\n",
      "2 100\n",
      "2 285\n",
      "2 62\n",
      "2 347\n",
      "2 174\n",
      "2 52\n"
     ]
    }
   ],
   "source": [
    "Numbers=[2,72,59,87,2,4,27,100,285,62,347,174,52]\n",
    "\n",
    "smallest=None\n",
    "\n",
    "for i in Numbers:\n",
    "    if smallest is None:\n",
    "        smallest=i\n",
    "    elif i < smallest:\n",
    "        smallest=i\n",
    "    print(smallest,i)\n",
    "            \n",
    "    \n",
    "\n",
    "    "
   ]
  },
  {
   "cell_type": "code",
   "execution_count": 201,
   "id": "b70fe164",
   "metadata": {},
   "outputs": [
    {
     "data": {
      "text/plain": [
       "NoneType"
      ]
     },
     "execution_count": 201,
     "metadata": {},
     "output_type": "execute_result"
    }
   ],
   "source": [
    "type(None)\n",
    "    "
   ]
  },
  {
   "cell_type": "code",
   "execution_count": null,
   "id": "02c58c65",
   "metadata": {},
   "outputs": [],
   "source": []
  },
  {
   "cell_type": "code",
   "execution_count": null,
   "id": "892d5c00",
   "metadata": {},
   "outputs": [],
   "source": []
  }
 ],
 "metadata": {
  "kernelspec": {
   "display_name": "Python 3 (ipykernel)",
   "language": "python",
   "name": "python3"
  },
  "language_info": {
   "codemirror_mode": {
    "name": "ipython",
    "version": 3
   },
   "file_extension": ".py",
   "mimetype": "text/x-python",
   "name": "python",
   "nbconvert_exporter": "python",
   "pygments_lexer": "ipython3",
   "version": "3.11.4"
  }
 },
 "nbformat": 4,
 "nbformat_minor": 5
}
