{
 "cells": [
  {
   "cell_type": "markdown",
   "id": "a81a4042",
   "metadata": {},
   "source": [
    "## looping Through strings"
   ]
  },
  {
   "cell_type": "code",
   "execution_count": 12,
   "id": "6f1902df",
   "metadata": {},
   "outputs": [
    {
     "name": "stdout",
     "output_type": "stream",
     "text": [
      "5\n"
     ]
    }
   ],
   "source": [
    "a='fruit'\n",
    "b=\"fruit\"\n",
    "\n",
    "print(len(a))     # len() function gives the total no of letters in a string starting from 0\n",
    "\n",
    "                  \n"
   ]
  },
  {
   "cell_type": "code",
   "execution_count": 19,
   "id": "886de185",
   "metadata": {},
   "outputs": [
    {
     "name": "stdout",
     "output_type": "stream",
     "text": [
      "f\n"
     ]
    }
   ],
   "source": [
    "print(b[0])        # for word \"fruit\" we have 5 letters starting fom 0,1,2,3,4 "
   ]
  },
  {
   "cell_type": "markdown",
   "id": "2dda6019",
   "metadata": {},
   "source": [
    "For the string banana we have 5 letters starting from Zero               \n",
    "\n",
    "0 b     \n",
    "1 a             \n",
    "2 n            \n",
    "3 a             \n",
    "4 n             \n",
    "5 a                    "
   ]
  },
  {
   "cell_type": "markdown",
   "id": "e4538a22",
   "metadata": {},
   "source": [
    "#### By using len()  function in a loop we can look at each letter of a string "
   ]
  },
  {
   "cell_type": "code",
   "execution_count": 13,
   "id": "bc597b4a",
   "metadata": {},
   "outputs": [
    {
     "name": "stdout",
     "output_type": "stream",
     "text": [
      "0 b\n",
      "1 a\n",
      "2 n\n",
      "3 a\n",
      "4 n\n",
      "5 a\n"
     ]
    }
   ],
   "source": [
    "fruit='banana'\n",
    "index=0\n",
    "\n",
    "while index<len(fruit):\n",
    "    print(index,fruit[index])\n",
    "    index=index+1\n",
    "    "
   ]
  },
  {
   "cell_type": "code",
   "execution_count": 14,
   "id": "a5b7d178",
   "metadata": {},
   "outputs": [
    {
     "name": "stdout",
     "output_type": "stream",
     "text": [
      "f\n",
      "r\n",
      "u\n",
      "i\n",
      "t\n"
     ]
    }
   ],
   "source": [
    "for i in \"fruit\":\n",
    "    print(i)\n",
    "    "
   ]
  },
  {
   "cell_type": "code",
   "execution_count": 15,
   "id": "c5056f60",
   "metadata": {},
   "outputs": [
    {
     "name": "stdout",
     "output_type": "stream",
     "text": [
      "The count of the letter a in the word is 3\n"
     ]
    }
   ],
   "source": [
    "# write a code that gives the count of the letter \"a\" in the word banana using for and while loops\n",
    "\n",
    "# using for loop\n",
    "\n",
    "\n",
    "fruit='banana'\n",
    "count=0\n",
    "\n",
    "for i in fruit:\n",
    "    if i=='a':\n",
    "        count=count+1\n",
    "print(\"The count of the letter a in the word is\",count)"
   ]
  },
  {
   "cell_type": "code",
   "execution_count": 16,
   "id": "5b01c0c9",
   "metadata": {},
   "outputs": [
    {
     "name": "stdout",
     "output_type": "stream",
     "text": [
      "b\n",
      "a\n",
      "n\n",
      "a\n",
      "n\n",
      "a\n",
      "The count of the letter a in the given word is 3\n"
     ]
    }
   ],
   "source": [
    "# Using while loop\n",
    "\n",
    "\n",
    "fruit='banana'\n",
    "letter=0\n",
    "count=0\n",
    "\n",
    "while letter<len(fruit):\n",
    "    print(fruit[letter])\n",
    "    if fruit[letter]==\"a\":\n",
    "        count=count+1\n",
    "    letter=letter+1\n",
    "print(\"The count of the letter a in the given word is\",count)"
   ]
  },
  {
   "cell_type": "markdown",
   "id": "7567e7a1",
   "metadata": {},
   "source": [
    "## Slicing of the strings"
   ]
  },
  {
   "cell_type": "code",
   "execution_count": 17,
   "id": "de93d334",
   "metadata": {},
   "outputs": [
    {
     "name": "stdout",
     "output_type": "stream",
     "text": [
      "12\n"
     ]
    }
   ],
   "source": [
    "a=\"Monty Python\"    # monty python \n",
    "                    # 0123456789011   total 12 letters including zero\n",
    "print(len(a))"
   ]
  },
  {
   "cell_type": "markdown",
   "id": "adf0bca8",
   "metadata": {},
   "source": [
    "###    'a[1:7] '    is slicing the letters starting with the letter from a[1] and not including the letter a[7]"
   ]
  },
  {
   "cell_type": "code",
   "execution_count": 18,
   "id": "1bca6873",
   "metadata": {},
   "outputs": [
    {
     "name": "stdout",
     "output_type": "stream",
     "text": [
      "onty P\n",
      "o\n",
      "y\n"
     ]
    }
   ],
   "source": [
    "print(a[1:7]) # starting with the letter from a[1] and not including the letter a[7]\n",
    "\n",
    "print(a[1])\n",
    "print(a[7])"
   ]
  },
  {
   "cell_type": "code",
   "execution_count": 19,
   "id": "3530da0a",
   "metadata": {},
   "outputs": [
    {
     "name": "stdout",
     "output_type": "stream",
     "text": [
      "Python\n"
     ]
    }
   ],
   "source": [
    "print(a[6:12])"
   ]
  },
  {
   "cell_type": "code",
   "execution_count": 20,
   "id": "1f4b8b75",
   "metadata": {},
   "outputs": [
    {
     "name": "stdout",
     "output_type": "stream",
     "text": [
      "Monty Python\n",
      "P\n",
      "Monty Python\n",
      "Mo\n",
      "Mo\n"
     ]
    }
   ],
   "source": [
    "print(a[0:900000000000000000000000])\n",
    "\n",
    "print(a[6:7])  # after the string ends 20  is also possible since the letters are included in it.\n",
    "\n",
    "print(a[-120000000:1000000000]) # this is also fine\n",
    "\n",
    "print(a[-50:2])\n",
    "\n",
    "print(a[:2])"
   ]
  },
  {
   "cell_type": "code",
   "execution_count": 22,
   "id": "f59529ff",
   "metadata": {},
   "outputs": [
    {
     "name": "stdout",
     "output_type": "stream",
     "text": [
      "Hello Monty Python\n"
     ]
    }
   ],
   "source": [
    "print(\"Hello\"+\" \"+a)"
   ]
  },
  {
   "cell_type": "markdown",
   "id": "4d07843f",
   "metadata": {},
   "source": [
    "#  in operator"
   ]
  },
  {
   "cell_type": "code",
   "execution_count": 3,
   "id": "6f966f85",
   "metadata": {},
   "outputs": [
    {
     "data": {
      "text/plain": [
       "True"
      ]
     },
     "execution_count": 3,
     "metadata": {},
     "output_type": "execute_result"
    }
   ],
   "source": [
    "fruit='banana'\n",
    "\n",
    "'a' in fruit "
   ]
  },
  {
   "cell_type": "markdown",
   "id": "a1e481b1",
   "metadata": {},
   "source": [
    "## reading a file"
   ]
  },
  {
   "cell_type": "code",
   "execution_count": 7,
   "id": "80bd0cd0",
   "metadata": {},
   "outputs": [
    {
     "name": "stdout",
     "output_type": "stream",
     "text": [
      "Hello there people what a morning\n",
      "33\n"
     ]
    }
   ],
   "source": [
    "a=open(\"D:\\\\akhil\\\\a.txt.txt\")\n",
    "\n",
    "a1=a.read()\n",
    "print(a1)\n",
    "\n",
    "\n",
    "\n",
    "print(len(a1))"
   ]
  },
  {
   "cell_type": "markdown",
   "id": "bbc1ceba",
   "metadata": {},
   "source": [
    "## Searching through file"
   ]
  },
  {
   "cell_type": "code",
   "execution_count": 4,
   "id": "9d65fc03",
   "metadata": {},
   "outputs": [
    {
     "name": "stdout",
     "output_type": "stream",
     "text": [
      "Hello there people what a morning\n"
     ]
    }
   ],
   "source": [
    "a=open(\"D:\\\\akhil\\\\a.txt.txt\") \n",
    "for line in a:\n",
    "    line=line.rstrip()\n",
    "    if line.startswith(\"He\"):\n",
    "        print(line)"
   ]
  },
  {
   "cell_type": "code",
   "execution_count": 5,
   "id": "59132e96",
   "metadata": {},
   "outputs": [
    {
     "name": "stdout",
     "output_type": "stream",
     "text": [
      "<_io.TextIOWrapper name='D:\\\\akhil\\\\a.txt.txt' mode='r' encoding='cp1252'>\n"
     ]
    }
   ],
   "source": [
    "print(a)"
   ]
  }
 ],
 "metadata": {
  "kernelspec": {
   "display_name": "Python 3 (ipykernel)",
   "language": "python",
   "name": "python3"
  },
  "language_info": {
   "codemirror_mode": {
    "name": "ipython",
    "version": 3
   },
   "file_extension": ".py",
   "mimetype": "text/x-python",
   "name": "python",
   "nbconvert_exporter": "python",
   "pygments_lexer": "ipython3",
   "version": "3.11.4"
  }
 },
 "nbformat": 4,
 "nbformat_minor": 5
}
