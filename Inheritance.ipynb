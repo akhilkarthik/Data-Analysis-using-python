{
 "cells": [
  {
   "cell_type": "markdown",
   "id": "1926047d",
   "metadata": {},
   "source": [
    "## Object Inheritance\n"
   ]
  },
  {
   "cell_type": "markdown",
   "id": "bdc0a3cf",
   "metadata": {},
   "source": [
    "#### Concept of inheritance allows you to build relationships between objects, grouping together similar concepts and reducing code duplication. Let's create a custom Fruit class with color and flavor attributes:"
   ]
  },
  {
   "cell_type": "markdown",
   "id": "f0aeff2c",
   "metadata": {},
   "source": [
    "Creating a class called \"fruit\" and adding the attributes in it"
   ]
  },
  {
   "cell_type": "code",
   "execution_count": 38,
   "id": "b46d0483",
   "metadata": {},
   "outputs": [],
   "source": [
    "class fruit:                         # creating class of fruit\n",
    "    def __init__(self,color,flavour): # adding attributes\n",
    "        self.color=color\n",
    "        self.flavour=flavour"
   ]
  },
  {
   "cell_type": "markdown",
   "id": "a241d71e",
   "metadata": {},
   "source": [
    "Creating sub classes"
   ]
  },
  {
   "cell_type": "code",
   "execution_count": 39,
   "id": "9dcf6104",
   "metadata": {},
   "outputs": [],
   "source": [
    "class apple(fruit):  # creating another class called apple and inherit the parent class \"fruit\" and its properties by adding()\n",
    "    pass"
   ]
  },
  {
   "cell_type": "code",
   "execution_count": 40,
   "id": "edbc9a95",
   "metadata": {},
   "outputs": [],
   "source": [
    "class orange(fruit):\n",
    "    pass"
   ]
  },
  {
   "cell_type": "markdown",
   "id": "7c47fb27",
   "metadata": {},
   "source": [
    "Now both \"apple\" and \"orange\" have inherited the properties of \"fruit\" class\n",
    "\n",
    "apple and orange classes become two child class"
   ]
  },
  {
   "cell_type": "markdown",
   "id": "30d79ccc",
   "metadata": {},
   "source": [
    "Now we can add some instances of apples or oranges class and inherit the properties of fruit"
   ]
  },
  {
   "cell_type": "code",
   "execution_count": 46,
   "id": "fa6b081f",
   "metadata": {},
   "outputs": [],
   "source": [
    "greenapple=apple(\"green\",\"sweet\") # to create an instances with adding attributes\n",
    "\n",
    "redorange=orange(\"red\",\"salty\")"
   ]
  },
  {
   "cell_type": "code",
   "execution_count": 47,
   "id": "a473a681",
   "metadata": {},
   "outputs": [
    {
     "name": "stdout",
     "output_type": "stream",
     "text": [
      "green\n",
      "salty\n"
     ]
    }
   ],
   "source": [
    "print(greenapple.color)  \n",
    "print(redorange.flavour)"
   ]
  },
  {
   "cell_type": "code",
   "execution_count": 54,
   "id": "0a9d9fad",
   "metadata": {},
   "outputs": [
    {
     "name": "stdout",
     "output_type": "stream",
     "text": [
      "green\n",
      "salty\n"
     ]
    }
   ],
   "source": [
    "class fruit:                         # creating class of fruit\n",
    "    def __init__(self,color,flavour): # adding attributes\n",
    "        self.color=color\n",
    "        self.flavour=flavour\n",
    "\n",
    "  # creating another classes called \"apple\" and \"orange\" and inherit the parent class \"fruit\" (and its properties) \n",
    "# by adding \"class name in brackets\"\n",
    "\n",
    "class apple(fruit): \n",
    "    pass\n",
    "\n",
    "class orange(fruit):\n",
    "    pass\n",
    "\n",
    "# now apple and orange become child classes of fruit with all the properties of fruit class\n",
    "\n",
    "# now  we can  create an instances to the class with adding attributes in the brackets\n",
    "    \n",
    "greenapple=apple(\"green\",\"sweet\") \n",
    "\n",
    "redorange=orange(\"red\",\"salty\")\n",
    "\n",
    "print(greenapple.color)  \n",
    "print(redorange.flavour)"
   ]
  },
  {
   "cell_type": "markdown",
   "id": "af654b47",
   "metadata": {},
   "source": [
    "Another Example"
   ]
  },
  {
   "cell_type": "code",
   "execution_count": 65,
   "id": "08dce0f4",
   "metadata": {},
   "outputs": [
    {
     "name": "stdout",
     "output_type": "stream",
     "text": [
      "mooo, I am Ammini!  mooo\n",
      "Meoww, I am Tom!  Meoww\n"
     ]
    }
   ],
   "source": [
    "class animals:\n",
    "    sound=\"\"\n",
    "    def __init__(self,name):\n",
    "          self.name=name\n",
    "            \n",
    "    \n",
    "    def speak(self):\n",
    "         return(\"{a}, I am {b}!  {a}\".format(a=self.sound,b=self.name))\n",
    "\n",
    "\n",
    "\n",
    "\n",
    "class cow(animals):\n",
    "    sound=\"mooo\"\n",
    "    \n",
    "class Cat(animals):\n",
    "    sound=\"Meoww\"\n",
    "\n",
    "ammini=cow(\"Ammini\")\n",
    "Tom=Cat(\"Tom\")\n",
    "\n",
    "print(ammini.speak())\n",
    "print(Tom.speak())\n"
   ]
  },
  {
   "cell_type": "code",
   "execution_count": null,
   "id": "6f69b82b",
   "metadata": {},
   "outputs": [],
   "source": []
  }
 ],
 "metadata": {
  "kernelspec": {
   "display_name": "Python 3 (ipykernel)",
   "language": "python",
   "name": "python3"
  },
  "language_info": {
   "codemirror_mode": {
    "name": "ipython",
    "version": 3
   },
   "file_extension": ".py",
   "mimetype": "text/x-python",
   "name": "python",
   "nbconvert_exporter": "python",
   "pygments_lexer": "ipython3",
   "version": "3.11.4"
  }
 },
 "nbformat": 4,
 "nbformat_minor": 5
}
