{
 "cells": [
  {
   "cell_type": "markdown",
   "id": "f67eca2c",
   "metadata": {},
   "source": [
    "## Creating 1-D Array"
   ]
  },
  {
   "cell_type": "code",
   "execution_count": 4,
   "id": "48ed9d75",
   "metadata": {},
   "outputs": [],
   "source": [
    "import numpy as np\n",
    "\n",
    "myarray= np.array([\"Akhil\",\"Athira\",\"Anju\"])"
   ]
  },
  {
   "cell_type": "code",
   "execution_count": 24,
   "id": "9d680f73",
   "metadata": {},
   "outputs": [
    {
     "name": "stdout",
     "output_type": "stream",
     "text": [
      "['Akhil' 'Athira' 'Anju']\n"
     ]
    }
   ],
   "source": [
    "print(myarray)"
   ]
  },
  {
   "cell_type": "code",
   "execution_count": 28,
   "id": "527ddb08",
   "metadata": {},
   "outputs": [],
   "source": [
    "myarray1= np.array([1,2,3,4,5],int)"
   ]
  },
  {
   "cell_type": "code",
   "execution_count": 38,
   "id": "c854e753",
   "metadata": {},
   "outputs": [
    {
     "data": {
      "text/plain": [
       "array(['Akhil', 'Athira', 'Anju'], dtype='<U6')"
      ]
     },
     "execution_count": 38,
     "metadata": {},
     "output_type": "execute_result"
    }
   ],
   "source": [
    "myarray5=myarray.copy() # .copy()  \n",
    "myarray5"
   ]
  },
  {
   "cell_type": "code",
   "execution_count": 40,
   "id": "d1b28cc3",
   "metadata": {},
   "outputs": [
    {
     "data": {
      "text/plain": [
       "array([1, 2, 3, 4, 5])"
      ]
     },
     "execution_count": 40,
     "metadata": {},
     "output_type": "execute_result"
    }
   ],
   "source": [
    "myarray6=myarray1.view() # .view()  function to create new array from existing array \n",
    "myarray6"
   ]
  },
  {
   "cell_type": "code",
   "execution_count": 44,
   "id": "aad029b8",
   "metadata": {},
   "outputs": [
    {
     "data": {
      "text/plain": [
       "array([ 0,  1,  2,  3,  4,  5,  6,  7,  8,  9, 10, 11, 12, 13, 14])"
      ]
     },
     "execution_count": 44,
     "metadata": {},
     "output_type": "execute_result"
    }
   ],
   "source": [
    "myarray6=np.arange(15) # creating integer using arange function\n",
    "myarray6"
   ]
  },
  {
   "cell_type": "code",
   "execution_count": 50,
   "id": "425b4e5d",
   "metadata": {},
   "outputs": [
    {
     "data": {
      "text/plain": [
       "array([5., 6., 7., 8., 9.])"
      ]
     },
     "execution_count": 50,
     "metadata": {},
     "output_type": "execute_result"
    }
   ],
   "source": [
    "myarray7=np.arange(5,10, dtype=float)\n",
    "myarray7"
   ]
  },
  {
   "cell_type": "code",
   "execution_count": 9,
   "id": "c41faf7e",
   "metadata": {},
   "outputs": [
    {
     "data": {
      "text/plain": [
       "array([12, 14, 16, 19, 21, 24])"
      ]
     },
     "execution_count": 9,
     "metadata": {},
     "output_type": "execute_result"
    }
   ],
   "source": [
    "myarray8=np.linspace(12,24,6,dtype=int)\n",
    "myarray8"
   ]
  },
  {
   "cell_type": "code",
   "execution_count": 66,
   "id": "03a5c37e",
   "metadata": {},
   "outputs": [
    {
     "data": {
      "text/plain": [
       "array([0., 0., 0., 0.])"
      ]
     },
     "execution_count": 66,
     "metadata": {},
     "output_type": "execute_result"
    }
   ],
   "source": [
    "myarray9=np.zeros(4)\n",
    "myarray9"
   ]
  },
  {
   "cell_type": "code",
   "execution_count": 70,
   "id": "2ac4469a",
   "metadata": {},
   "outputs": [
    {
     "data": {
      "text/plain": [
       "0.0"
      ]
     },
     "execution_count": 70,
     "metadata": {},
     "output_type": "execute_result"
    }
   ],
   "source": [
    "np.min(myarray9)"
   ]
  },
  {
   "cell_type": "code",
   "execution_count": 73,
   "id": "54cc8c8b",
   "metadata": {},
   "outputs": [
    {
     "data": {
      "text/plain": [
       "12"
      ]
     },
     "execution_count": 73,
     "metadata": {},
     "output_type": "execute_result"
    }
   ],
   "source": [
    "myarray8.min()"
   ]
  },
  {
   "cell_type": "raw",
   "id": "c31d2f9e",
   "metadata": {},
   "source": []
  },
  {
   "cell_type": "code",
   "execution_count": 42,
   "id": "ad4dec5c",
   "metadata": {},
   "outputs": [
    {
     "data": {
      "text/plain": [
       "array([22, 24, 26, 29, 31, 34])"
      ]
     },
     "execution_count": 42,
     "metadata": {},
     "output_type": "execute_result"
    }
   ],
   "source": [
    "myarray8+10 # mathematicaly adding an element to whole arrays"
   ]
  },
  {
   "cell_type": "code",
   "execution_count": 52,
   "id": "0a94263c",
   "metadata": {},
   "outputs": [
    {
     "data": {
      "text/plain": [
       "array([20, 14, 16, 19, 21, 24])"
      ]
     },
     "execution_count": 52,
     "metadata": {},
     "output_type": "execute_result"
    }
   ],
   "source": [
    "myarray8[0]=20\n",
    "myarray8"
   ]
  },
  {
   "cell_type": "code",
   "execution_count": 53,
   "id": "00f6ced8",
   "metadata": {},
   "outputs": [
    {
     "ename": "AttributeError",
     "evalue": "'numpy.ndarray' object has no attribute 'extend'",
     "output_type": "error",
     "traceback": [
      "\u001b[1;31m---------------------------------------------------------------------------\u001b[0m",
      "\u001b[1;31mAttributeError\u001b[0m                            Traceback (most recent call last)",
      "Cell \u001b[1;32mIn[53], line 1\u001b[0m\n\u001b[1;32m----> 1\u001b[0m \u001b[43mmyarray8\u001b[49m\u001b[38;5;241;43m.\u001b[39;49m\u001b[43mextend\u001b[49m(\u001b[38;5;241m20\u001b[39m)\n",
      "\u001b[1;31mAttributeError\u001b[0m: 'numpy.ndarray' object has no attribute 'extend'"
     ]
    }
   ],
   "source": []
  },
  {
   "cell_type": "raw",
   "id": "c16af789",
   "metadata": {},
   "source": []
  },
  {
   "cell_type": "code",
   "execution_count": null,
   "id": "9a84628b",
   "metadata": {},
   "outputs": [],
   "source": []
  }
 ],
 "metadata": {
  "kernelspec": {
   "display_name": "Python 3 (ipykernel)",
   "language": "python",
   "name": "python3"
  },
  "language_info": {
   "codemirror_mode": {
    "name": "ipython",
    "version": 3
   },
   "file_extension": ".py",
   "mimetype": "text/x-python",
   "name": "python",
   "nbconvert_exporter": "python",
   "pygments_lexer": "ipython3",
   "version": "3.11.4"
  }
 },
 "nbformat": 4,
 "nbformat_minor": 5
}
