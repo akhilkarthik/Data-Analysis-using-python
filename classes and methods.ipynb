{
 "cells": [
  {
   "cell_type": "markdown",
   "id": "b7dcbcb5",
   "metadata": {},
   "source": [
    "## Object-Oriented Programming"
   ]
  },
  {
   "cell_type": "markdown",
   "id": "db8fe604",
   "metadata": {},
   "source": [
    "In object-oriented programming, concepts are modeled as classes and objects. An idea is defined using a class, and an instance of this class is called an object. Almost everything in Python is an object, including strings, lists, dictionaries, and numbers. When we create a list in Python, we’re creating an object which is an instance of the list class, which represents the concept of a list. Classes also have attributes and methods associated with them. Attributes are the characteristics of the class, while methods are functions that are part of the class."
   ]
  },
  {
   "cell_type": "markdown",
   "id": "55b98999",
   "metadata": {},
   "source": [
    "We can use the type() function to figure out what class a variable or value belongs to\n",
    "\n",
    "You can use the dir() function to print all the attributes and methods of an object\n",
    "\n",
    "You can also use the help() function on an object, which will return the documentation for the corresponding class. This will show all the methods for the class, along with parameters the methods receive, types of return values, and a description of the methods."
   ]
  },
  {
   "cell_type": "markdown",
   "id": "cfabe920",
   "metadata": {},
   "source": [
    "#### Each string is an instance of the string class, having the same methods of the parent class. Since the content of the string is \n",
    "#### different, the methods will return different values"
   ]
  },
  {
   "cell_type": "markdown",
   "id": "8bb5720f",
   "metadata": {},
   "source": [
    "## Defining New Classes"
   ]
  },
  {
   "cell_type": "code",
   "execution_count": 25,
   "id": "e700ee2c",
   "metadata": {},
   "outputs": [],
   "source": [
    "class Apple:            # \"class\"  followed by Class name here \"Apple\"\n",
    "    color = \"\"         ## creating attribute \"color\" for the class Apple\n",
    "    flavour = \"\"       ## creating attribute \"flavour\" for the class Apple\n",
    "    "
   ]
  },
  {
   "cell_type": "markdown",
   "id": "b87d5023",
   "metadata": {},
   "source": [
    "We can create and define our classes in Python similar to how we define functions. We start with the class keyword, followed by the name of our class and a colon. Python style guidelines recommend class names to start with a capital letter. After the class definition line is the class body, indented to the right. Inside the class body, we can define attributes for the class."
   ]
  },
  {
   "cell_type": "code",
   "execution_count": 4,
   "id": "abdae7bf",
   "metadata": {},
   "outputs": [],
   "source": [
    "jonaGold = Apple()  # creating new instances for the Apple class by assigning a variable called \"jonaGold\"."
   ]
  },
  {
   "cell_type": "code",
   "execution_count": 7,
   "id": "03eecc69",
   "metadata": {},
   "outputs": [],
   "source": [
    "jonaGold.color=\"red\"\n",
    "jonaGold.flavour=\"Sweet\"  # setting the values for the atributes"
   ]
  },
  {
   "cell_type": "code",
   "execution_count": 12,
   "id": "1da15f2a",
   "metadata": {},
   "outputs": [
    {
     "name": "stdout",
     "output_type": "stream",
     "text": [
      "red\n",
      "Sweet\n",
      "RED\n"
     ]
    }
   ],
   "source": [
    "print(jonaGold.color)\n",
    "print(jonaGold.flavour)\n",
    "\n",
    "print(jonaGold.color.upper())"
   ]
  },
  {
   "cell_type": "code",
   "execution_count": 14,
   "id": "8a6e0839",
   "metadata": {},
   "outputs": [],
   "source": [
    "golden=Apple()\n",
    "\n",
    "golden.color=\"Green\"\n",
    "golden.flavour=\"soft\""
   ]
  },
  {
   "cell_type": "code",
   "execution_count": 24,
   "id": "613d3501",
   "metadata": {},
   "outputs": [
    {
     "name": "stdout",
     "output_type": "stream",
     "text": [
      "There is an apple called  golden, and its color is Green,while it's taste feel like soft\n"
     ]
    }
   ],
   "source": [
    "print(\"There is an apple called {}, and its color is {},while it's taste feel like {}\".\n",
    "      format(\" golden\",golden.color,golden.flavour))"
   ]
  },
  {
   "cell_type": "markdown",
   "id": "baf81bae",
   "metadata": {},
   "source": [
    "## Instance Methods"
   ]
  },
  {
   "cell_type": "code",
   "execution_count": 7,
   "id": "526eb99e",
   "metadata": {},
   "outputs": [],
   "source": [
    "class Cat:\n",
    "    name=\"cat\"                        \n",
    "    def speak(self):        # self is used to call the the instance the method is being executed on   \n",
    "                           # This will allow you to access attributes of the instance using dot notation, like self.name, \n",
    "                             # which will access the name attribute of that specific instance of the class object\n",
    "                \n",
    "        print(\"Meooww I am {}, Meooow\".format(self.name))\n",
    "        "
   ]
  },
  {
   "cell_type": "code",
   "execution_count": 6,
   "id": "84ce39fe",
   "metadata": {},
   "outputs": [
    {
     "name": "stdout",
     "output_type": "stream",
     "text": [
      "Meooww I am Tom, Meooow\n"
     ]
    }
   ],
   "source": [
    "whitecat=Cat()\n",
    "whitecat.name=\"Tom\"\n",
    "\n",
    "whitecat.speak()"
   ]
  },
  {
   "cell_type": "code",
   "execution_count": 9,
   "id": "1ace1a6d",
   "metadata": {},
   "outputs": [
    {
     "name": "stdout",
     "output_type": "stream",
     "text": [
      "Meooww I am Jerry, Meooow\n"
     ]
    }
   ],
   "source": [
    "greencat=Cat()\n",
    "greencat.name=\"Jerry\"\n",
    "greencat.speak()"
   ]
  },
  {
   "cell_type": "code",
   "execution_count": 15,
   "id": "112d18ad",
   "metadata": {},
   "outputs": [
    {
     "name": "stdout",
     "output_type": "stream",
     "text": [
      "30\n"
     ]
    }
   ],
   "source": [
    "class Cat:\n",
    "    years=0\n",
    "    def cat_years(self):\n",
    "        return(self.years*6)\n",
    "\n",
    "white_cat=Cat()\n",
    "\n",
    "white_cat.years=5\n",
    "\n",
    "print(white_cat.cat_years())"
   ]
  },
  {
   "cell_type": "markdown",
   "id": "fa55687e",
   "metadata": {},
   "source": [
    "## Constructors and Other Special Methods \n",
    "\n",
    "Instead of creating classes with empty or default values, we can set these values when we create the instance. This ensures that we don't miss an important value and avoids a lot of unnecessary lines of code. To do this, we use a special method called a constructor"
   ]
  },
  {
   "cell_type": "code",
   "execution_count": 17,
   "id": "ca43f92b",
   "metadata": {},
   "outputs": [
    {
     "name": "stdout",
     "output_type": "stream",
     "text": [
      "red\n"
     ]
    }
   ],
   "source": [
    "\n",
    "class Apple():\n",
    "    def __init__(self,color,flavour):       \n",
    "        self.color= color\n",
    "        self.flavour = flavour\n",
    "\n",
    "greenapple=Apple(\"red\",\"sweet\")\n",
    "\n",
    "\n",
    "print(greenapple.color)\n",
    "\n"
   ]
  },
  {
   "cell_type": "markdown",
   "id": "6877d0db",
   "metadata": {},
   "source": [
    "**The constructor method takes the self variable, which represents the instance, as well as color and flavor parameters. These parameters are then used by the constructor method to set the values for the current instance. So we can now create a new instance of the Apple class and set the color and flavor values all in go:"
   ]
  },
  {
   "cell_type": "code",
   "execution_count": 13,
   "id": "5c2cedbb",
   "metadata": {},
   "outputs": [
    {
     "name": "stdout",
     "output_type": "stream",
     "text": [
      "hi, my name is Akhil\n"
     ]
    }
   ],
   "source": [
    "class Person:\n",
    "    def __init__(self, name):\n",
    "        self.name =name\n",
    "    def greeting(self):\n",
    "        # Should return \"hi, my name is \" followed by the name of the Person.\n",
    "        return (\"hi, my name is {}\".format(self.name)) \n",
    "\n",
    "# Create a new instance with a name of your choice\n",
    "some_person =  Person(\"Akhil\")\n",
    "# Call the greeting method\n",
    "print(some_person.greeting())\n"
   ]
  },
  {
   "cell_type": "markdown",
   "id": "446fc7f8",
   "metadata": {},
   "source": [
    "#### \"__str__\" special method. This method allows us to define how an instance of an object will be printed when it’s passed to the\n",
    "\n",
    "#### print() function. If an object doesn’t have this special method defined, it will wind up using the default representation, which will \n",
    "\n",
    "#### print the position of the object in memory."
   ]
  },
  {
   "cell_type": "code",
   "execution_count": 18,
   "id": "e3e52e39",
   "metadata": {},
   "outputs": [
    {
     "name": "stdout",
     "output_type": "stream",
     "text": [
      " The Apple is Green in color,and it's taste is sweet\n"
     ]
    }
   ],
   "source": [
    "class Apple:\n",
    "    def __init__(self,color,flavour):\n",
    "        self.color=color\n",
    "        self.flavour=flavour\n",
    "    def __str__(self):\n",
    "        return(\" The Apple is {} in color,and it's taste is {}\".format(self.color,self.flavour))\n",
    "\n",
    "\n",
    "greenapple=Apple(\"Green\",\"sweet\")\n",
    "\n",
    "print(greenapple)"
   ]
  },
  {
   "cell_type": "code",
   "execution_count": 20,
   "id": "a5c3db36",
   "metadata": {},
   "outputs": [
    {
     "name": "stdout",
     "output_type": "stream",
     "text": [
      "Help on class Apple in module __main__:\n",
      "\n",
      "class Apple(builtins.object)\n",
      " |  Apple(color, flavour)\n",
      " |  \n",
      " |  Methods defined here:\n",
      " |  \n",
      " |  __init__(self, color, flavour)\n",
      " |      Initialize self.  See help(type(self)) for accurate signature.\n",
      " |  \n",
      " |  __str__(self)\n",
      " |      Return str(self).\n",
      " |  \n",
      " |  ----------------------------------------------------------------------\n",
      " |  Data descriptors defined here:\n",
      " |  \n",
      " |  __dict__\n",
      " |      dictionary for instance variables (if defined)\n",
      " |  \n",
      " |  __weakref__\n",
      " |      list of weak references to the object (if defined)\n",
      "\n"
     ]
    }
   ],
   "source": [
    "help(Apple)"
   ]
  },
  {
   "cell_type": "markdown",
   "id": "e4ea4af0",
   "metadata": {},
   "source": [
    "write a code which defines an Elevator class. The elevator has a current floor, it also has a top and a bottom floor that are the minimum and maximum floors it can go to. Fill in the blanks to make the elevator go through the floors requested."
   ]
  },
  {
   "cell_type": "code",
   "execution_count": 120,
   "id": "ff78464e",
   "metadata": {},
   "outputs": [],
   "source": [
    "class Elevator:\n",
    "    def __init__(self,bottom,top,current):\n",
    "        self.bottom=bottom\n",
    "        self.top=top\n",
    "        self.current=current\n",
    "        pass\n",
    "\n",
    "    def up(self):\n",
    "        self.current=self.current+1\n",
    "        pass\n",
    "    def down(self):\n",
    "        self.current=self.current-1\n",
    "        pass\n",
    "    def go_to(self,floor):\n",
    "        self.current=floor\n",
    "        pass\n",
    "    def __str__(self):\n",
    "        return(\"current position is {}\".format(self.current))"
   ]
  },
  {
   "cell_type": "code",
   "execution_count": 123,
   "id": "8c762f25",
   "metadata": {},
   "outputs": [],
   "source": [
    "elevator=Elevator(-1,10,0)"
   ]
  },
  {
   "cell_type": "code",
   "execution_count": 125,
   "id": "ceb81c44",
   "metadata": {},
   "outputs": [
    {
     "data": {
      "text/plain": [
       "1"
      ]
     },
     "execution_count": 125,
     "metadata": {},
     "output_type": "execute_result"
    }
   ],
   "source": [
    "elevator.up()\n",
    "elevator.current"
   ]
  },
  {
   "cell_type": "code",
   "execution_count": 128,
   "id": "815f7387",
   "metadata": {},
   "outputs": [
    {
     "name": "stdout",
     "output_type": "stream",
     "text": [
      "current position is 1\n"
     ]
    }
   ],
   "source": [
    "print(elevator)"
   ]
  }
 ],
 "metadata": {
  "kernelspec": {
   "display_name": "Python 3 (ipykernel)",
   "language": "python",
   "name": "python3"
  },
  "language_info": {
   "codemirror_mode": {
    "name": "ipython",
    "version": 3
   },
   "file_extension": ".py",
   "mimetype": "text/x-python",
   "name": "python",
   "nbconvert_exporter": "python",
   "pygments_lexer": "ipython3",
   "version": "3.11.4"
  }
 },
 "nbformat": 4,
 "nbformat_minor": 5
}
